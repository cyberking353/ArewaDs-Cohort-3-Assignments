{
 "cells": [
  {
   "cell_type": "markdown",
   "metadata": {},
   "source": [
    "# Python Package Manager Exercises:\n"
   ]
  },
  {
   "cell_type": "markdown",
   "metadata": {},
   "source": [
    "1) Read this url and find the 10 most frequent words. romeo_and_juliet = 'http://www.gutenberg.org/files/1112/1112.txt'\n",
    "\n",
    "- The above url is not available and I have subtituted with [Romeo and Juliet](https://folger-main-site-assets.s3.amazonaws.com/uploads/2022/11/romeo-and-juliet_TXT_FolgerShakespeare.txt)"
   ]
  },
  {
   "cell_type": "code",
   "execution_count": 74,
   "metadata": {},
   "outputs": [],
   "source": [
    "import re\n",
    "\n",
    "def find_most_common_words(filename,num_words):\n",
    "    pattern = r'[\\-–—]'\n",
    "    words_dict = {}\n",
    "    try:\n",
    "        with open(filename) as file_obj:\n",
    "            text = file_obj.read()\n",
    "            text = re.sub(pattern, '',text)\n",
    "            word_list = text.split()\n",
    "            for word in word_list:\n",
    "                if word in words_dict:\n",
    "                    words_dict[word] += 1\n",
    "                else:\n",
    "                    words_dict[word] = 1\n",
    "    except FileNotFoundError:\n",
    "        print('Sorry file does not exist')\n",
    "        return None\n",
    "   \n",
    "    sorted_dict_val_list = dict(sorted(words_dict.items(), key=lambda val: val[1], reverse=True))\n",
    "    return list(sorted_dict_val_list.items())[:num_words]\n"
   ]
  },
  {
   "cell_type": "code",
   "execution_count": 75,
   "metadata": {},
   "outputs": [],
   "source": [
    "import requests\n",
    "import json\n",
    "import numpy as np\n",
    "\n",
    "url = 'https://folger-main-site-assets.s3.amazonaws.com/uploads/2022/11/romeo-and-juliet_TXT_FolgerShakespeare.txt'\n",
    "\n",
    "response = requests.get(url)\n",
    "\n"
   ]
  },
  {
   "cell_type": "code",
   "execution_count": 76,
   "metadata": {},
   "outputs": [
    {
     "data": {
      "text/plain": [
       "[('the', 603),\n",
       " ('I', 542),\n",
       " ('and', 469),\n",
       " ('to', 441),\n",
       " ('a', 387),\n",
       " ('of', 355),\n",
       " ('my', 301),\n",
       " ('is', 295),\n",
       " ('in', 277),\n",
       " ('that', 254)]"
      ]
     },
     "execution_count": 76,
     "metadata": {},
     "output_type": "execute_result"
    }
   ],
   "source": [
    "with open('romeo_and_juliet.txt','w') as file_obj:\n",
    "    file_obj.write(response.text)\n",
    "\n",
    "filename = 'romeo_and_juliet.txt'\n",
    "\n",
    "find_most_common_words(filename,10)"
   ]
  },
  {
   "cell_type": "markdown",
   "metadata": {},
   "source": [
    "2) Read the cats API and cats_api = 'https://api.thecatapi.com/v1/breeds' and find :\n",
    "   - the min, max, mean, median, standard deviation of cats' weight in metric units.\n",
    "   - the min, max, mean, median, standard deviation of cats' lifespan in years.\n",
    "   - Create a frequency table of country and breed of cats\n"
   ]
  },
  {
   "cell_type": "code",
   "execution_count": 77,
   "metadata": {},
   "outputs": [
    {
     "name": "stdout",
     "output_type": "stream",
     "text": [
      "200\n"
     ]
    }
   ],
   "source": [
    "url = 'https://api.thecatapi.com/v1/breeds'\n",
    "\n",
    "response = requests.get(url)\n",
    "\n",
    "print(response.status_code)"
   ]
  },
  {
   "cell_type": "code",
   "execution_count": 78,
   "metadata": {},
   "outputs": [],
   "source": [
    "with open('cats_bread.json','w') as file_obj:\n",
    "    json.dump(response.json(),file_obj)\n",
    "response.close()"
   ]
  },
  {
   "cell_type": "code",
   "execution_count": 84,
   "metadata": {},
   "outputs": [
    {
     "name": "stdout",
     "output_type": "stream",
     "text": [
      "Min of cat's Weight is 2\n",
      "Max of cat's Weight is 11\n",
      "Median of cat's Weight is 5.0\n",
      "Std of cat's Weight is 1.8919492706653682\n",
      "\n",
      "Min of cat's lifespan is 8\n",
      "Max of cat's lifespan is 20\n",
      "Median of cat's lifespan is 14.0\n",
      "Std of cat's lifespan is 2.399274041835065\n"
     ]
    }
   ],
   "source": [
    "with open('cats_bread.json') as file_obj:\n",
    "    cat_breads_data = json.load(file_obj)\n",
    "\n",
    "x = cat_breads_data[0]\n",
    "\n",
    "unclean_weights_data = []\n",
    "unclean_lifespan_data = []\n",
    "\n",
    "for cat_bread in cat_breads_data:\n",
    "    unclean_weights_data.append(cat_bread['weight']['metric'].split('-'))\n",
    "    unclean_lifespan_data.append(cat_bread['life_span'].split('-'))\n",
    "\n",
    "clean_weights_data = []\n",
    "clean_lifespan_data = []\n",
    "\n",
    "for unclean_data in unclean_weights_data:\n",
    "    for data in unclean_data:\n",
    "        clean_weights_data.append(int(data))\n",
    "\n",
    "for unclean_data in unclean_lifespan_data:\n",
    "    for data in unclean_data:\n",
    "        clean_lifespan_data.append(int(data))\n",
    "\n",
    "clean_weights_data = sorted(clean_weights_data)\n",
    "clean_lifespan_data = sorted(clean_lifespan_data)\n",
    "\n",
    "\n",
    "\n",
    "#the min, max, mean, median, standard deviation of cats' weight in metric units.\n",
    "\n",
    "print(\"Min of cat's Weight is {}\".format(min(clean_weights_data)))\n",
    "print(\"Max of cat's Weight is {}\".format(max(clean_weights_data)))\n",
    "print(\"Median of cat's Weight is {}\".format(np.median(clean_weights_data)))\n",
    "print(\"Std of cat's Weight is {}\".format(np.std(clean_weights_data)))\n",
    "\n",
    "#the min, max, mean, median, standard deviation of cats' lifespan in years.\n",
    "print()\n",
    "\n",
    "print(\"Min of cat's lifespan is {}\".format(min(clean_lifespan_data)))\n",
    "print(\"Max of cat's lifespan is {}\".format(max(clean_lifespan_data)))\n",
    "print(\"Median of cat's lifespan is {}\".format(np.median(clean_lifespan_data)))\n",
    "print(\"Std of cat's lifespan is {}\".format(np.std(clean_lifespan_data)))\n",
    "\n",
    "\n"
   ]
  },
  {
   "cell_type": "markdown",
   "metadata": {},
   "source": [
    "#### Create a frequency table of country and breed of cats\n"
   ]
  },
  {
   "cell_type": "code",
   "execution_count": 100,
   "metadata": {},
   "outputs": [],
   "source": [
    "origin_list = [data['origin'] for data in cat_breads_data]\n",
    "breed_list = [breed['name'] for breed in cat_breads_data]\n",
    "\n",
    "\n",
    "origin_breed_list = list(zip(origin_list,breed_list))\n",
    "\n",
    "#Saved for later...\n"
   ]
  },
  {
   "cell_type": "markdown",
   "metadata": {},
   "source": []
  }
 ],
 "metadata": {
  "kernelspec": {
   "display_name": "base",
   "language": "python",
   "name": "python3"
  },
  "language_info": {
   "codemirror_mode": {
    "name": "ipython",
    "version": 3
   },
   "file_extension": ".py",
   "mimetype": "text/x-python",
   "name": "python",
   "nbconvert_exporter": "python",
   "pygments_lexer": "ipython3",
   "version": "3.8.20"
  }
 },
 "nbformat": 4,
 "nbformat_minor": 2
}
