{
 "cells": [
  {
   "cell_type": "markdown",
   "metadata": {},
   "source": [
    "# Exercises: Module 6"
   ]
  },
  {
   "cell_type": "markdown",
   "metadata": {},
   "source": [
    "1) Create an empty dictionary called dog\n"
   ]
  },
  {
   "cell_type": "code",
   "execution_count": 16,
   "metadata": {},
   "outputs": [],
   "source": [
    "dog = {}"
   ]
  },
  {
   "cell_type": "markdown",
   "metadata": {
    "vscode": {
     "languageId": "plaintext"
    }
   },
   "source": [
    "2) Add name, color, breed, legs, age to the dog dictionary"
   ]
  },
  {
   "cell_type": "code",
   "execution_count": 17,
   "metadata": {},
   "outputs": [],
   "source": [
    "dog[\"name\"] = \"Bingo\"\n",
    "dog[\"color\"] = \"Yellow\"\n",
    "dog[\"breed\"] = \"German Shepard\"\n",
    "dog[\"leg\"] = 4\n",
    "dog[\"age\"] = 5\n"
   ]
  },
  {
   "cell_type": "markdown",
   "metadata": {},
   "source": [
    "3) Create a student dictionary and add first_name, last_name, gender, age, marital status, skills, country, city and address as keys for the dictionary"
   ]
  },
  {
   "cell_type": "code",
   "execution_count": 18,
   "metadata": {},
   "outputs": [],
   "source": [
    "student = {\n",
    "    \"first_name\": \"Ahmad\",\n",
    "    \"last_name\": \"Adam\",\n",
    "    \"gender\": \"Male\",\n",
    "    \"age\": 23,\n",
    "    \"marital_status\": \"Married\",\n",
    "    \"skills\": [\"Critical Thinking\", \"Coding\", \"Singing\"],\n",
    "    \"counntry\": \"China\",\n",
    "    \"city\": \"Beijing\",\n",
    "    \"address\": \"No. 6 Xio-liu street, Beijing, China\" \n",
    "\n",
    "}"
   ]
  },
  {
   "cell_type": "markdown",
   "metadata": {},
   "source": [
    "4) Get the length of the student dictionary"
   ]
  },
  {
   "cell_type": "code",
   "execution_count": 19,
   "metadata": {},
   "outputs": [
    {
     "name": "stdout",
     "output_type": "stream",
     "text": [
      "9\n"
     ]
    }
   ],
   "source": [
    "print(len(student))"
   ]
  },
  {
   "cell_type": "markdown",
   "metadata": {},
   "source": [
    "5) Get the value of skills and check the data type, it should be a list\n"
   ]
  },
  {
   "cell_type": "code",
   "execution_count": 20,
   "metadata": {},
   "outputs": [
    {
     "name": "stdout",
     "output_type": "stream",
     "text": [
      "<class 'list'>\n"
     ]
    }
   ],
   "source": [
    "skills = student[\"skills\"]\n",
    "\n",
    "print(type(skills))"
   ]
  },
  {
   "cell_type": "markdown",
   "metadata": {},
   "source": [
    "6) Modify the skills values by adding one or two skills"
   ]
  },
  {
   "cell_type": "code",
   "execution_count": 22,
   "metadata": {},
   "outputs": [
    {
     "name": "stdout",
     "output_type": "stream",
     "text": [
      "['Critical Thinking', 'Coding', 'Singing', 'Communication', 'Dancing', 'Communication', 'Dancing']\n"
     ]
    }
   ],
   "source": [
    "skills.extend([\"Communication\",\"Dancing\"])\n",
    "\n",
    "print(skills)"
   ]
  },
  {
   "cell_type": "markdown",
   "metadata": {},
   "source": [
    "7) Get the dictionary keys as a list"
   ]
  },
  {
   "cell_type": "code",
   "execution_count": 24,
   "metadata": {},
   "outputs": [
    {
     "name": "stdout",
     "output_type": "stream",
     "text": [
      "dict_keys(['first_name', 'last_name', 'gender', 'age', 'marital_status', 'skills', 'counntry', 'city', 'address'])\n"
     ]
    }
   ],
   "source": [
    "dict_keys = student.keys()\n",
    "print(dict_keys)"
   ]
  },
  {
   "cell_type": "markdown",
   "metadata": {},
   "source": [
    "8) Get the dictionary values as a list"
   ]
  },
  {
   "cell_type": "code",
   "execution_count": 25,
   "metadata": {},
   "outputs": [
    {
     "name": "stdout",
     "output_type": "stream",
     "text": [
      "dict_values(['Ahmad', 'Adam', 'Male', 23, 'Married', ['Critical Thinking', 'Coding', 'Singing', 'Communication', 'Dancing', 'Communication', 'Dancing'], 'China', 'Beijing', 'No. 6 Xio-liu street, Beijing, China'])\n"
     ]
    }
   ],
   "source": [
    "dict_values = student.values()\n",
    "print(dict_values)"
   ]
  },
  {
   "cell_type": "markdown",
   "metadata": {},
   "source": [
    "9) Change the dictionary to a list of tuples using items() method"
   ]
  },
  {
   "cell_type": "code",
   "execution_count": 26,
   "metadata": {},
   "outputs": [
    {
     "name": "stdout",
     "output_type": "stream",
     "text": [
      "dict_items([('first_name', 'Ahmad'), ('last_name', 'Adam'), ('gender', 'Male'), ('age', 23), ('marital_status', 'Married'), ('skills', ['Critical Thinking', 'Coding', 'Singing', 'Communication', 'Dancing', 'Communication', 'Dancing']), ('counntry', 'China'), ('city', 'Beijing'), ('address', 'No. 6 Xio-liu street, Beijing, China')])\n"
     ]
    }
   ],
   "source": [
    "key_value_pairs = student.items()\n",
    "\n",
    "print(key_value_pairs)"
   ]
  },
  {
   "cell_type": "markdown",
   "metadata": {},
   "source": [
    "10) Delete one of the items in the dictionary"
   ]
  },
  {
   "cell_type": "code",
   "execution_count": 27,
   "metadata": {},
   "outputs": [],
   "source": [
    "del student[\"skills\"]"
   ]
  },
  {
   "cell_type": "markdown",
   "metadata": {},
   "source": [
    "11) Delete one of the dictionaries"
   ]
  },
  {
   "cell_type": "markdown",
   "metadata": {},
   "source": []
  },
  {
   "cell_type": "code",
   "execution_count": 28,
   "metadata": {},
   "outputs": [],
   "source": [
    "del student"
   ]
  }
 ],
 "metadata": {
  "kernelspec": {
   "display_name": "base",
   "language": "python",
   "name": "python3"
  },
  "language_info": {
   "codemirror_mode": {
    "name": "ipython",
    "version": 3
   },
   "file_extension": ".py",
   "mimetype": "text/x-python",
   "name": "python",
   "nbconvert_exporter": "python",
   "pygments_lexer": "ipython3",
   "version": "3.8.20"
  }
 },
 "nbformat": 4,
 "nbformat_minor": 2
}
