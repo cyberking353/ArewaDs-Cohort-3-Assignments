{
 "cells": [
  {
   "cell_type": "code",
   "execution_count": 15,
   "metadata": {},
   "outputs": [],
   "source": [
    "import re"
   ]
  },
  {
   "cell_type": "markdown",
   "metadata": {},
   "source": [
    "# 💻 Regular Expressions Exercises:\n"
   ]
  },
  {
   "cell_type": "markdown",
   "metadata": {},
   "source": [
    "#### Exercises: Level 1\n"
   ]
  },
  {
   "cell_type": "markdown",
   "metadata": {},
   "source": [
    "1) What is the most frequent word in the following paragraph?\n"
   ]
  },
  {
   "cell_type": "code",
   "execution_count": 63,
   "metadata": {},
   "outputs": [
    {
     "name": "stdout",
     "output_type": "stream",
     "text": [
      "The most frequent word is 'love', with 6 occurances\n"
     ]
    }
   ],
   "source": [
    "paragraph = 'I love teaching. If you do not love teaching what else can you love. I love Python if you do not love something which can give you all the capabilities to develop an application what else can you love.'\n",
    "\n",
    "def most_frequent_word(text):\n",
    "    word_list = re.sub(r'[.?,]','',text)\n",
    "    word_list = re.split(' ',word_list)\n",
    "\n",
    "    word_dict = {}\n",
    "\n",
    "    for word in word_list:\n",
    "        if word in word_dict:\n",
    "            word_dict[word] += 1\n",
    "        else:\n",
    "            word_dict[word] = 1\n",
    "\n",
    "    word_dict = dict(sorted(word_dict.items(), key=lambda item: item[1],reverse=True))\n",
    "    count_list = [(val,key) for key,val in word_dict.items()]\n",
    "\n",
    "    return count_list\n",
    "\n",
    "n_occured, word = most_frequent_word(paragraph)[0]\n",
    "\n",
    "print('The most frequent word is \\'{}\\', with {} occurances'.format(word,n_occured))"
   ]
  },
  {
   "cell_type": "markdown",
   "metadata": {},
   "source": [
    "2) The position of some particles on the horizontal x-axis are -12, -4, -3 and -1 in the negative direction, 0 at origin, 4 and 8 in the positive direction. Extract these numbers from this whole text and find the distance between the two furthest particles.\n"
   ]
  },
  {
   "cell_type": "code",
   "execution_count": 50,
   "metadata": {},
   "outputs": [
    {
     "name": "stdout",
     "output_type": "stream",
     "text": [
      "[-12, -4, -3, -1, 0, 4, 8]\n",
      "\n",
      "The Distance between two farthest particles is 20\n"
     ]
    }
   ],
   "source": [
    "text = '''\n",
    "The position of some particles on the horizontal x-axis are -12, -4, -3 and -1 in the negative direction, 0 at origin, 4 and 8 in the positive direction. \n",
    "Extract these numbers from this whole text and find the distance between the two furthest particles.\n",
    "'''\n",
    "pattern = r'[-]\\d+|\\d'\n",
    "\n",
    "num_str = re.findall(pattern,text)\n",
    "\n",
    "pat_dis = [int(num) for num in num_str]\n",
    "\n",
    "print(pat_dis)\n",
    "\n",
    "print('\\nThe Distance between two farthest particles is {}'.format(pat_dis[-1] - pat_dis[0]))\n"
   ]
  },
  {
   "cell_type": "markdown",
   "metadata": {},
   "source": [
    "#### Exercises: Level 2"
   ]
  },
  {
   "cell_type": "markdown",
   "metadata": {},
   "source": [
    "1) Write a pattern which identifies if a string is a valid python variable\n",
    "\n"
   ]
  },
  {
   "cell_type": "code",
   "execution_count": null,
   "metadata": {},
   "outputs": [],
   "source": [
    "pattern "
   ]
  },
  {
   "cell_type": "markdown",
   "metadata": {},
   "source": [
    "#### Exercises: Level 3\n"
   ]
  },
  {
   "cell_type": "markdown",
   "metadata": {},
   "source": [
    "1) Clean the following text. After cleaning, count three most frequent words in the string.\n"
   ]
  },
  {
   "cell_type": "code",
   "execution_count": 70,
   "metadata": {},
   "outputs": [
    {
     "name": "stdout",
     "output_type": "stream",
     "text": [
      "I am a teacher, and I love teaching. There is nothing as more rewarding as educating and empowering people. I found teaching more interesting than any other jobs. Does this motivate you to be a teacher?\n",
      "\n",
      "The most frequent words are [(3, 'I'), (2, 'a'), (2, 'teacher'), (2, 'and')]\n"
     ]
    }
   ],
   "source": [
    "sentence = '''%I $am@% a %tea@cher%, &and& I lo%#ve %tea@ching%;. There $is nothing; &as& mo@re rewarding as educa@ting &and& @emp%o@wering peo@ple. ;I found tea@ching m%o@re interesting tha@n any other %jo@bs. %Do@es thi%s mo@tivate yo@u to be a tea@cher!?'''\n",
    "\n",
    "def clean_text(pattern,sub,text):\n",
    "    return re.sub(pattern,sub,text)\n",
    "\n",
    "clean_txt = clean_text('[%$@&#;!]','',sentence)\n",
    "\n",
    "print(clean_txt)\n",
    "\n",
    "print('\\nThe most frequent words are {}'.format(most_frequent_word(clean_txt)[:4]))"
   ]
  },
  {
   "cell_type": "code",
   "execution_count": null,
   "metadata": {},
   "outputs": [],
   "source": []
  }
 ],
 "metadata": {
  "kernelspec": {
   "display_name": "base",
   "language": "python",
   "name": "python3"
  },
  "language_info": {
   "codemirror_mode": {
    "name": "ipython",
    "version": 3
   },
   "file_extension": ".py",
   "mimetype": "text/x-python",
   "name": "python",
   "nbconvert_exporter": "python",
   "pygments_lexer": "ipython3",
   "version": "3.8.20"
  }
 },
 "nbformat": 4,
 "nbformat_minor": 2
}
