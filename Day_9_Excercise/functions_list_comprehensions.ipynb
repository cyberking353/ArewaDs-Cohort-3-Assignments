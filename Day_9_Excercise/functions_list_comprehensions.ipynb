{
 "cells": [
  {
   "cell_type": "markdown",
   "metadata": {},
   "source": [
    "# Exercises: Module 9"
   ]
  },
  {
   "cell_type": "markdown",
   "metadata": {},
   "source": [
    "#### Exercises: Level 1"
   ]
  },
  {
   "cell_type": "markdown",
   "metadata": {},
   "source": [
    "1 Declare a function add_two_numbers. It takes two parameters and it returns a sum."
   ]
  },
  {
   "cell_type": "code",
   "execution_count": 29,
   "metadata": {},
   "outputs": [
    {
     "name": "stdout",
     "output_type": "stream",
     "text": [
      "9\n"
     ]
    }
   ],
   "source": [
    "def add_two_numbers(first_num,second_num):\n",
    "    return first_num + second_num\n",
    "\n",
    "print(add_two_numbers(4,5))"
   ]
  },
  {
   "cell_type": "markdown",
   "metadata": {},
   "source": []
  },
  {
   "cell_type": "markdown",
   "metadata": {},
   "source": [
    "2 Area of a circle is calculated as follows: area = π x r x r. Write a function that calculates area_of_circle."
   ]
  },
  {
   "cell_type": "code",
   "execution_count": 30,
   "metadata": {},
   "outputs": [
    {
     "name": "stdout",
     "output_type": "stream",
     "text": [
      "1256.8\n"
     ]
    }
   ],
   "source": [
    "def area_of_circle(radius):\n",
    "    return 3.142 * (radius ** 2)\n",
    "\n",
    "print(area_of_circle(20))"
   ]
  },
  {
   "cell_type": "markdown",
   "metadata": {},
   "source": [
    "3) Write a function called add_all_nums which takes arbitrary number of arguments and sums all the arguments. Check if all the list items are number types. If not do give a reasonable feedback.\n"
   ]
  },
  {
   "cell_type": "code",
   "execution_count": 31,
   "metadata": {},
   "outputs": [
    {
     "name": "stdout",
     "output_type": "stream",
     "text": [
      "C is not a number, therefore cannot be added\n",
      "A is not a number, therefore cannot be added\n",
      "15\n"
     ]
    }
   ],
   "source": [
    "def add_all_nums(*number_list):\n",
    "    sum = 0\n",
    "\n",
    "    for number in number_list:\n",
    "        if isinstance(number,(int,float)):\n",
    "            sum += number\n",
    "        else:\n",
    "            print(f\"{number} is not a number, therefore cannot be added\")\n",
    "    \n",
    "    return sum\n",
    "\n",
    "print(add_all_nums('C',4,2,'A',6,3))"
   ]
  },
  {
   "cell_type": "markdown",
   "metadata": {},
   "source": [
    "4) Temperature in °C can be converted to °F using this formula: °F = (°C x 9/5) + 32. Write a function which converts °C to °F, convert_celsius_to-fahrenheit."
   ]
  },
  {
   "cell_type": "code",
   "execution_count": 32,
   "metadata": {},
   "outputs": [
    {
     "name": "stdout",
     "output_type": "stream",
     "text": [
      "37°C is equivalent to 98.6 °F\n"
     ]
    }
   ],
   "source": [
    "def convert_celsius_to_fahrenheit(celsius):\n",
    "    fahrenheit = (celsius * 9/5) + 32\n",
    "\n",
    "    return fahrenheit\n",
    "\n",
    "celsius = 37\n",
    "\n",
    "print(f\"{celsius}°C is equivalent to {convert_celsius_to_fahrenheit(celsius)} °F\")"
   ]
  },
  {
   "cell_type": "markdown",
   "metadata": {},
   "source": [
    "5) Write a function called check-season, it takes a month parameter and returns the season: Autumn, Winter, Spring or Summer."
   ]
  },
  {
   "cell_type": "code",
   "execution_count": 33,
   "metadata": {},
   "outputs": [
    {
     "name": "stdout",
     "output_type": "stream",
     "text": [
      "The month of july is in Summer\n"
     ]
    }
   ],
   "source": [
    "def check_season(month):\n",
    "    if month.lower() == 'september' or month.lower() == 'october' or month.lower() == 'november':\n",
    "        return \"Autumn\"\n",
    "    elif month.lower() == 'december' or month.lower() == 'january' or month.lower() == 'febraury':\n",
    "        return \"Winter\"\n",
    "    elif month.lower() == month.lower() == 'march' or month.lower() == 'april' or month.lower() == 'may':\n",
    "        return \"Spring\"\n",
    "    elif month.lower() == 'june' or month.lower() == 'july' or month.lower() == 'august':\n",
    "        return \"Summer\"\n",
    "    else:\n",
    "        return \"Invalid Month inputed\"\n",
    "\n",
    "month = 'july'\n",
    "print(f\"The month of {month} is in {check_season(month)}\")"
   ]
  },
  {
   "cell_type": "markdown",
   "metadata": {},
   "source": [
    "6) Write a function called calculate_slope which return the slope of a linear equation\n"
   ]
  },
  {
   "cell_type": "code",
   "execution_count": 34,
   "metadata": {},
   "outputs": [
    {
     "name": "stdout",
     "output_type": "stream",
     "text": [
      " the slope 'm' of the given coordinates is : 1.67\n"
     ]
    }
   ],
   "source": [
    "def calculate_slope(x1,x2,y1,y2):\n",
    "    return (y2-y1) / (x2-x1)\n",
    "\n",
    "\n",
    "print(f\" the slope 'm' of the given coordinates is : {round(calculate_slope(3,6,5,10),2)}\")"
   ]
  },
  {
   "cell_type": "markdown",
   "metadata": {},
   "source": [
    "7) Quadratic equation is calculated as follows: ax² + bx + c = 0. Write a function which calculates solution set of a quadratic equation, solve_quadratic_eqn.\n"
   ]
  },
  {
   "cell_type": "code",
   "execution_count": null,
   "metadata": {},
   "outputs": [],
   "source": []
  },
  {
   "cell_type": "markdown",
   "metadata": {},
   "source": [
    "8) Declare a function named print_list. It takes a list as a parameter and it prints out each element of the list.\n"
   ]
  },
  {
   "cell_type": "code",
   "execution_count": 1,
   "metadata": {},
   "outputs": [
    {
     "name": "stdout",
     "output_type": "stream",
     "text": [
      "1\n",
      "2\n",
      "3\n",
      "4\n",
      "5\n",
      "6\n",
      "7\n",
      "8\n",
      "9\n",
      "10\n"
     ]
    }
   ],
   "source": [
    "def print_list(item_list):\n",
    "    for item in item_list:\n",
    "        print(item)\n",
    "\n",
    "\n",
    "print_list(list(range(1,11)))"
   ]
  },
  {
   "cell_type": "markdown",
   "metadata": {},
   "source": [
    "9) Declare a function named reverse_list. It takes an array as a parameter and it returns the reverse of the array (use loops)."
   ]
  },
  {
   "cell_type": "code",
   "execution_count": null,
   "metadata": {},
   "outputs": [
    {
     "name": "stdout",
     "output_type": "stream",
     "text": [
      "['ArithmeticError', 'AttributeError', 'BufferError', 'ConnectionAbortedError']\n",
      "['ConnectionAbortedError', 'BufferError', 'AttributeError', 'ArithmeticError']\n"
     ]
    }
   ],
   "source": [
    "def reverse_list(item_list):\n",
    "    reversed_list = []\n",
    "    for index in range((len(item_list)-1),-1,-1):\n",
    "        reversed_list.append(item_list[index])\n",
    "\n",
    "    return reversed_list\n",
    "\n",
    "item_list = [\"ArithmeticError\",\"AttributeError\",\"BufferError\",\"ConnectionAbortedError\"]\n",
    "\n",
    "print(item_list)\n",
    "\n",
    "print(reverse_list(item_list))"
   ]
  },
  {
   "cell_type": "markdown",
   "metadata": {},
   "source": [
    "10) Declare a function named capitalize_list_items. It takes a list as a parameter and it returns a capitalized list of items\n"
   ]
  },
  {
   "cell_type": "code",
   "execution_count": null,
   "metadata": {},
   "outputs": [
    {
     "name": "stdout",
     "output_type": "stream",
     "text": [
      "['salim', 'ahmad', '1abd', False, 1234]\n",
      "False is of type <class 'bool'>, therefore can't be capitalized\n",
      "1234 is of type <class 'int'>, therefore can't be capitalized\n",
      "['SALIM', 'AHMAD', '1ABD', False, 1234]\n"
     ]
    }
   ],
   "source": [
    "def capitalize_list_items(item_list):\n",
    "    capitalized_list = []\n",
    "    #check if item is a str\n",
    "    for item in item_list:\n",
    "        if isinstance(item, (str)):\n",
    "            capitalized_list.append(item.upper())\n",
    "        else:\n",
    "            print(f\"{item} is of type {type(item)}, therefore can't be capitalized\")\n",
    "            capitalized_list.append(item)\n",
    "    return capitalized_list\n",
    "\n",
    "list = ['salim','ahmad','1abd',False,1234]\n",
    "\n",
    "print(list)\n",
    "\n",
    "print(capitalize_list_items(list))"
   ]
  },
  {
   "cell_type": "markdown",
   "metadata": {},
   "source": [
    "11) Declare a function named add_item. It takes a list and an item parameters. It returns a list with the item added at the end.\n"
   ]
  },
  {
   "cell_type": "code",
   "execution_count": null,
   "metadata": {},
   "outputs": [
    {
     "name": "stdout",
     "output_type": "stream",
     "text": [
      "['a', 'b', 'c']\n",
      "['a', 'b', 'c', 'z']\n"
     ]
    }
   ],
   "source": [
    "def add_item(item_list,item):\n",
    "    item_list.append(item)\n",
    "    return item_list\n",
    "item_list = ['a','b','c']\n",
    "\n",
    "print(item_list)\n",
    "print(add_item(item_list,'z'))"
   ]
  },
  {
   "cell_type": "markdown",
   "metadata": {},
   "source": [
    "\n",
    "12) Declare a function named remove_item. It takes a list and an item parameters. It returns a list with the item removed from it."
   ]
  },
  {
   "cell_type": "code",
   "execution_count": null,
   "metadata": {},
   "outputs": [
    {
     "name": "stdout",
     "output_type": "stream",
     "text": [
      "[1, 23, 4]\n",
      "[23, 4]\n",
      "The list is either empty or item does not exist\n"
     ]
    }
   ],
   "source": [
    "def remove_item(item_list,item):\n",
    "    if item in item_list:\n",
    "        item_list.remove(item)\n",
    "        return item_list\n",
    "    else:\n",
    "        return \"The list is either empty or item does not exist\"\n",
    "\n",
    "list = [1,23,4]\n",
    "print(list)\n",
    "print(remove_item(list,1))\n",
    "print(remove_item(list,0))"
   ]
  },
  {
   "cell_type": "markdown",
   "metadata": {},
   "source": [
    "13) Declare a function named sum_of_numbers. It takes a number parameter and it adds all the numbers in that range.\n"
   ]
  },
  {
   "cell_type": "code",
   "execution_count": 41,
   "metadata": {},
   "outputs": [
    {
     "name": "stdout",
     "output_type": "stream",
     "text": [
      "sum of numbers in range 100 is 5050\n"
     ]
    }
   ],
   "source": [
    "def sum_of_numbers(number):\n",
    "    total = 0\n",
    "    for i in range(number + 1):\n",
    "        total += i\n",
    "    return total\n",
    "\n",
    "number = 100\n",
    "\n",
    "print(f\"sum of numbers in range {number} is {sum_of_numbers(number)}\")"
   ]
  },
  {
   "cell_type": "markdown",
   "metadata": {},
   "source": [
    "14) Declare a function named sum_of_odds. It takes a number parameter and it adds all the odd numbers in that range.\n"
   ]
  },
  {
   "cell_type": "code",
   "execution_count": null,
   "metadata": {},
   "outputs": [
    {
     "name": "stdout",
     "output_type": "stream",
     "text": [
      "2500\n"
     ]
    }
   ],
   "source": [
    "def sum_of_odds(number):\n",
    "    total = 0\n",
    "    for i in range(number + 1):\n",
    "        if i % 2 == 0:\n",
    "            continue\n",
    "        else:\n",
    "            total += i\n",
    "    return total\n",
    "\n",
    "print(sum_of_odds(100))"
   ]
  },
  {
   "cell_type": "markdown",
   "metadata": {},
   "source": [
    "15) Declare a function named sum_of_even. It takes a number parameter and it adds all the even numbers in that - range.\n"
   ]
  },
  {
   "cell_type": "code",
   "execution_count": 48,
   "metadata": {},
   "outputs": [
    {
     "name": "stdout",
     "output_type": "stream",
     "text": [
      "2550\n"
     ]
    }
   ],
   "source": [
    "def sum_of_even(number):\n",
    "    total = 0\n",
    "    for i in range(number + 1):\n",
    "        if i % 2 == 0:\n",
    "            total += i\n",
    "        else:\n",
    "            continue\n",
    "    return total\n",
    "\n",
    "print(sum_of_even(100))"
   ]
  },
  {
   "cell_type": "markdown",
   "metadata": {},
   "source": [
    "#### Exercises: Level 2"
   ]
  },
  {
   "cell_type": "markdown",
   "metadata": {},
   "source": [
    "1) Declare a function named evens_and_odds . It takes a positive integer as parameter and it counts number of evens and odds in the number."
   ]
  },
  {
   "cell_type": "code",
   "execution_count": 49,
   "metadata": {},
   "outputs": [
    {
     "name": "stdout",
     "output_type": "stream",
     "text": [
      "There are 51 even and 50 odd numbers in the 100\n"
     ]
    }
   ],
   "source": [
    "def even_and_odds(number):\n",
    "    even_count = 0\n",
    "    odd_count = 0\n",
    "    for num in range(number + 1):\n",
    "        if num % 2 == 0:\n",
    "            even_count += 1\n",
    "        else:\n",
    "            odd_count +=1\n",
    "    print(f\"There are {even_count} even and {odd_count} odd numbers in the {number}\")\n",
    "\n",
    "even_and_odds(100)"
   ]
  },
  {
   "cell_type": "markdown",
   "metadata": {
    "vscode": {
     "languageId": "bat"
    }
   },
   "source": [
    "2) Call your function factorial, it takes a whole number as a parameter and it return a factorial of the number\n"
   ]
  },
  {
   "cell_type": "code",
   "execution_count": 72,
   "metadata": {},
   "outputs": [
    {
     "name": "stdout",
     "output_type": "stream",
     "text": [
      "1\n",
      "1\n",
      "120\n"
     ]
    }
   ],
   "source": [
    "def factorial(number):\n",
    "    fac_num = 1\n",
    "    for num in range(number,1,-1):\n",
    "        fac_num *= num\n",
    "    return fac_num\n",
    "\n",
    "print(factorial(0))\n",
    "print(factorial(1))\n",
    "print(factorial(5))"
   ]
  },
  {
   "cell_type": "markdown",
   "metadata": {},
   "source": [
    "3) Call your function is_empty, it takes a parameter and it checks if it is empty or not\n"
   ]
  },
  {
   "cell_type": "code",
   "execution_count": 55,
   "metadata": {},
   "outputs": [
    {
     "name": "stdout",
     "output_type": "stream",
     "text": [
      "True\n",
      "True\n",
      "True\n",
      "False\n"
     ]
    }
   ],
   "source": [
    "def is_empty(item):\n",
    "    if not item:\n",
    "        return True\n",
    "    else:\n",
    "        return False\n",
    "\n",
    "list_1 = []\n",
    "number = 0\n",
    "string = ''\n",
    "name = 'salim'\n",
    "\n",
    "print(is_empty(list_1))\n",
    "print(is_empty(number))\n",
    "print(is_empty(string))\n",
    "print(is_empty(name))"
   ]
  },
  {
   "cell_type": "markdown",
   "metadata": {},
   "source": [
    "4) Write different functions which take lists. They should calculate_mean, calculate_median, calculate_mode, calculate_range, calculate_variance, calculate_std (standard deviation)."
   ]
  },
  {
   "cell_type": "code",
   "execution_count": 75,
   "metadata": {},
   "outputs": [
    {
     "name": "stdout",
     "output_type": "stream",
     "text": [
      "[70, 69, 75, 6, 57, 52, 41, 83, 72, 77, 3, 33, 97, 1, 94, 6, 28, 52, 94, 26]\n",
      "The mean of the data is : 51.8\n",
      "The median of the data is : 54.5\n",
      "The modes of the data is : [6, 52, 94]\n",
      "The range of the data is : 96\n",
      "The variance of the data is : 983.66\n",
      "The std of the data is : 31.36\n"
     ]
    }
   ],
   "source": [
    "def calculate_mean(data):\n",
    "    return sum(data) / len(data)\n",
    "\n",
    "def calculate_median(data):\n",
    "    median = 0\n",
    "    data = sorted(data)\n",
    "    if len(data) % 2 == 0:\n",
    "        median = (data[int(len(data)/2)] + data[int((len(data)/2))-1]) / 2\n",
    "    else:\n",
    "        median = data[int(len(data)//2)]\n",
    "    return median\n",
    "\n",
    "def calculate_mode(data):\n",
    "    frequency = {}\n",
    "    for value in data:\n",
    "        if value in frequency:\n",
    "            frequency[value] += 1\n",
    "        else:\n",
    "            frequency[value] = 1\n",
    "    \n",
    "    max_freq = max(frequency.values())\n",
    "\n",
    "    modes = [key for key, val in frequency.items() if val == max_freq]\n",
    "    return modes\n",
    "\n",
    "\n",
    "def calculate_range(data):\n",
    "    return max(data) - min(data)\n",
    "\n",
    "def calculate_variance(data):\n",
    "    x = []\n",
    "    for i in data:\n",
    "        x.append((i - calculate_mean(data)) ** 2)\n",
    " \n",
    "    variance = sum(x) / len(data)\n",
    "    return round(variance,2)\n",
    "\n",
    "\n",
    "def calculate_std(data):\n",
    "    return round(calculate_variance(data) ** 0.5,2)\n",
    "\n",
    "\n",
    "data = [70, 69, 75, 6, 57, 52, 41, 83, 72, 77, 3, 33, 97, 1, 94, 6, 28, 52, 94, 26]\n",
    "\n",
    "print(data)\n",
    "print(f\"The mean of the data is : {calculate_mean(data)}\")\n",
    "print(f\"The median of the data is : {calculate_median(data)}\")\n",
    "print(f\"The modes of the data is : {calculate_mode(data)}\")\n",
    "print(f\"The range of the data is : {calculate_range(data)}\")\n",
    "print(f\"The variance of the data is : {calculate_variance(data)}\")\n",
    "print(f\"The std of the data is : {calculate_std(data)}\")"
   ]
  },
  {
   "cell_type": "markdown",
   "metadata": {},
   "source": [
    "#### Exercises: Level 3"
   ]
  },
  {
   "cell_type": "markdown",
   "metadata": {},
   "source": [
    "1) Write a function called is_prime, which checks if a number is prime.\n"
   ]
  },
  {
   "cell_type": "code",
   "execution_count": 1,
   "metadata": {},
   "outputs": [
    {
     "name": "stdout",
     "output_type": "stream",
     "text": [
      "29 is a prime number.\n"
     ]
    }
   ],
   "source": [
    "def is_prime(n):\n",
    "    if n <= 1:\n",
    "        return False  \n",
    "    if n <= 3:\n",
    "        return True  \n",
    "    if n % 2 == 0 or n % 3 == 0:\n",
    "        return False  \n",
    "\n",
    "    i = 5\n",
    "    while i * i <= n:\n",
    "        if n % i == 0 or n % (i + 2) == 0:\n",
    "            return False\n",
    "        i += 6\n",
    "    return True\n",
    "\n",
    "\n",
    "number = 29\n",
    "if is_prime(number):\n",
    "    print(f\"{number} is a prime number.\")\n",
    "else:\n",
    "    print(f\"{number} is not a prime number.\")\n"
   ]
  },
  {
   "cell_type": "markdown",
   "metadata": {
    "vscode": {
     "languageId": "bat"
    }
   },
   "source": [
    "2) Write a functions which checks if all items are unique in the list.\n",
    "\n"
   ]
  },
  {
   "cell_type": "code",
   "execution_count": 5,
   "metadata": {},
   "outputs": [
    {
     "name": "stdout",
     "output_type": "stream",
     "text": [
      "The Items in the list are unique\n",
      "The Items in the list are not unique\n",
      "These Items appears more than once ==>  ['salim', 1]\n"
     ]
    }
   ],
   "source": [
    "def unique_item_checker(items_list):\n",
    "    unique_list = []\n",
    "    d_items = []\n",
    "    for item in items_list:\n",
    "        if item in unique_list:\n",
    "            d_items.append(item)\n",
    "        else:\n",
    "            unique_list.append(item)\n",
    "    \n",
    "    if len(unique_list) == len(items_list):\n",
    "        print(\"The Items in the list are unique\")\n",
    "    else:\n",
    "        print(\"The Items in the list are not unique\")\n",
    "        print(\"These Items appears more than once ==> \", d_items)\n",
    "\n",
    "unique_item_checker([\"salim\",\"ahmad\",\"Isa\"])\n",
    "unique_item_checker([\"salim\",\"salim\",1,1])\n"
   ]
  },
  {
   "cell_type": "markdown",
   "metadata": {},
   "source": [
    "3) Write a function which checks if all the items of the list are of the same data type.\n"
   ]
  },
  {
   "cell_type": "code",
   "execution_count": 3,
   "metadata": {},
   "outputs": [
    {
     "name": "stdout",
     "output_type": "stream",
     "text": [
      "The items in the list have thesesame data types\n",
      "The items in the list have different data types\n"
     ]
    }
   ],
   "source": [
    "def unique_type_checker(items_list):\n",
    "    type_list = set([type(item) for item in items_list])\n",
    "    if len(type_list) == 1:\n",
    "        print(\"The items in the list have thesesame data types\")\n",
    "    else:\n",
    "        print(\"The items in the list have different data types\")\n",
    "\n",
    "unique_type_checker(([1,2,4,5,1]))\n",
    "unique_type_checker([\"salim\",1])"
   ]
  },
  {
   "cell_type": "markdown",
   "metadata": {},
   "source": [
    "4) Write a function which check if provided variable is a valid python variable\n"
   ]
  },
  {
   "cell_type": "code",
   "execution_count": 4,
   "metadata": {},
   "outputs": [
    {
     "name": "stdout",
     "output_type": "stream",
     "text": [
      "True\n",
      "False\n",
      "False\n",
      "True\n"
     ]
    }
   ],
   "source": [
    "import keyword  #Credit (ChatGPT)\n",
    "\n",
    "def is_valid_variable_name(variable_name):\n",
    "    # Check if the variable is a Python keyword\n",
    "    if keyword.iskeyword(variable_name):\n",
    "        return False\n",
    "    \n",
    "    # Check if the variable name starts with a letter or an underscore\n",
    "    if not variable_name[0].isalpha() and variable_name[0] != '_':\n",
    "        return False\n",
    "    \n",
    "    # Check if the variable name contains only letters, digits, or underscores\n",
    "    if not all(char.isalnum() or char == '_' for char in variable_name):\n",
    "        return False\n",
    "    \n",
    "    return True\n",
    "\n",
    "# Example usage:\n",
    "print(is_valid_variable_name('my_variable'))  # True\n",
    "print(is_valid_variable_name('1st_var'))      # False\n",
    "print(is_valid_variable_name('class'))        # False (keyword)\n",
    "print(is_valid_variable_name('var_name123'))  # True\n"
   ]
  },
  {
   "cell_type": "markdown",
   "metadata": {},
   "source": [
    "5) Create a function called the most_spoken_languages in the world. It should return 10 or 20 most spoken languages in the world in descending order\n"
   ]
  },
  {
   "cell_type": "code",
   "execution_count": null,
   "metadata": {},
   "outputs": [],
   "source": [
    "def most_spoken_languages(country_data):\n",
    "    \n",
    "    languages = []\n",
    "\n",
    "    for country in country_data:\n",
    "        languages.extend(country[\"languages\"])\n",
    "\n",
    "\n",
    "    languages_count = {}\n",
    "\n",
    "    for language in languages:\n",
    "        if language in languages_count:\n",
    "            languages_count[language] += 1\n",
    "        else:\n",
    "            languages_count[language] = 1\n",
    "\n",
    "\n",
    "    #sorting the list based on values\n",
    "\n",
    "    sorted_lannguages = dict(sorted(languages_count.items(), key = lambda item: item[1], reverse=True))\n",
    "\n",
    "    # convert the list to a dict to be able to slice the dict like a list\n",
    "\n",
    "    sorted_countries = list(sorted_lannguages.items()) # it will be in the form (\"english\",6) ....\n",
    "\n",
    "    # loop to print the first ten\n",
    "    print(\"\\n20 Most Spoken Languages\\n\")\n",
    "\n",
    "    for lang, lang_count in sorted_countries[:20]:\n",
    "        print(lang, lang_count)\n",
    "\n"
   ]
  },
  {
   "cell_type": "code",
   "execution_count": 20,
   "metadata": {},
   "outputs": [
    {
     "name": "stdout",
     "output_type": "stream",
     "text": [
      "\n",
      "Ten Most Spoken Languages\n",
      "\n",
      "English 91\n",
      "French 45\n",
      "Arabic 25\n",
      "Spanish 24\n",
      "Portuguese 9\n",
      "Russian 9\n",
      "Dutch 8\n",
      "German 7\n",
      "Chinese 5\n",
      "Serbian 4\n",
      "Swahili 4\n",
      "Italian 4\n",
      "Swedish 3\n",
      "Albanian 3\n",
      "Croatian 3\n",
      "Norwegian 3\n",
      "Uzbek 2\n",
      "Turkmen 2\n",
      "Samoan 2\n",
      "Guaraní 2\n"
     ]
    }
   ],
   "source": [
    "import country_data\n",
    "\n",
    "most_spoken_languages(country_data.countries)"
   ]
  },
  {
   "cell_type": "markdown",
   "metadata": {
    "vscode": {
     "languageId": "bat"
    }
   },
   "source": [
    "6) Create a function called the most_populated_countries. It should return 10 or 20 most populated countries in descending order"
   ]
  },
  {
   "cell_type": "code",
   "execution_count": 21,
   "metadata": {},
   "outputs": [],
   "source": [
    "def most_populated_countries(country_data):\n",
    "    country_population = {}\n",
    "\n",
    "    for country in country_data:\n",
    "        country_population[country[\"name\"]] = country[\"population\"]\n",
    "\n",
    "    #now we sort country_population based on value\n",
    "\n",
    "    country_population = dict(sorted(country_population.items(), key=lambda item: item[1], reverse=True))\n",
    "\n",
    "    #convert the dict to list to make it slicable\n",
    "\n",
    "    country_population = list(country_population.items())\n",
    "\n",
    "    #loop to print first ten populated countries\n",
    "    print(\"\\nTen Most Populated Countries\\n\")\n",
    "    for country, population in country_population[:20]:\n",
    "        print(country, population)"
   ]
  },
  {
   "cell_type": "code",
   "execution_count": 22,
   "metadata": {},
   "outputs": [
    {
     "name": "stdout",
     "output_type": "stream",
     "text": [
      "\n",
      "Ten Most Populated Countries\n",
      "\n",
      "China 1377422166\n",
      "India 1295210000\n",
      "United States of America 323947000\n",
      "Indonesia 258705000\n",
      "Brazil 206135893\n",
      "Pakistan 194125062\n",
      "Nigeria 186988000\n",
      "Bangladesh 161006790\n",
      "Russian Federation 146599183\n",
      "Japan 126960000\n",
      "Mexico 122273473\n",
      "Philippines 103279800\n",
      "Viet Nam 92700000\n",
      "Ethiopia 92206005\n",
      "Egypt 91290000\n",
      "Congo (Democratic Republic of the) 85026000\n",
      "Germany 81770900\n",
      "Iran (Islamic Republic of) 79369900\n",
      "Turkey 78741053\n",
      "France 66710000\n"
     ]
    }
   ],
   "source": [
    "most_populated_countries(country_data.countries)"
   ]
  },
  {
   "cell_type": "code",
   "execution_count": null,
   "metadata": {},
   "outputs": [],
   "source": []
  }
 ],
 "metadata": {
  "kernelspec": {
   "display_name": "base",
   "language": "python",
   "name": "python3"
  },
  "language_info": {
   "codemirror_mode": {
    "name": "ipython",
    "version": 3
   },
   "file_extension": ".py",
   "mimetype": "text/x-python",
   "name": "python",
   "nbconvert_exporter": "python",
   "pygments_lexer": "ipython3",
   "version": "3.8.20"
  }
 },
 "nbformat": 4,
 "nbformat_minor": 2
}
