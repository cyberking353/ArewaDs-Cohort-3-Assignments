{
 "cells": [
  {
   "cell_type": "markdown",
   "metadata": {},
   "source": [
    "# Higher Order Functions Exercises\n",
    "\n",
    "```python\n",
    "\n",
    "countries = ['Estonia', 'Finland', 'Sweden', 'Denmark', 'Norway', 'Iceland']\n",
    "names = ['Asabeneh', 'Lidiya', 'Ermias', 'Abraham']\n",
    "numbers = [1, 2, 3, 4, 5, 6, 7, 8, 9, 10]\n",
    "\n",
    "```"
   ]
  },
  {
   "cell_type": "markdown",
   "metadata": {},
   "source": [
    "#### Exercises: Level 1"
   ]
  },
  {
   "cell_type": "markdown",
   "metadata": {},
   "source": [
    "1) Explain the difference between map, filter, and reduce."
   ]
  },
  {
   "cell_type": "markdown",
   "metadata": {
    "vscode": {
     "languageId": "plaintext"
    }
   },
   "source": [
    "1) map():\n",
    "    Used to apply a function to each item in an iterable (e.g., list, tuple).\n",
    "    Returns a map object (can be converted to a list).\n",
    "    Example:\n",
    "\n",
    "    ```python\n",
    "    numbers = [1, 2, 3]\n",
    "    squares = map(lambda x: x**2, numbers)  # [1, 4, 9]\n",
    "    ```\n",
    "\n",
    "\n",
    "2) filter():\n",
    "    Used to filter elements of an iterable based on a condition (returns only the elements where the condition is True).\n",
    "\n",
    "      ```python\n",
    "    numbers = [1, 2, 3, 4]\n",
    "    evens = filter(lambda x: x % 2 == 0, numbers)  # [2, 4]\n",
    "    ```\n",
    "\n",
    "\n",
    "3) reduce() (from functools):\n",
    "    Used to reduce an iterable to a single value by repeatedly applying a function that combines two elements.\n",
    "  \n",
    "\n",
    "    ```python\n",
    "    from functools import reduce\n",
    "    numbers = [1, 2, 3, 4]\n",
    "    product = reduce(lambda x, y: x * y, numbers)  # 24\n",
    "    ```\n",
    "\n",
    "\n",
    "\n"
   ]
  },
  {
   "cell_type": "markdown",
   "metadata": {},
   "source": [
    "2) Explain the difference between higher order function, closure and decorator"
   ]
  },
  {
   "cell_type": "markdown",
   "metadata": {},
   "source": [
    "1) A closure is a function that:\n",
    "    Remembers variables from its enclosing scope, even after that scope has finished executing.\n",
    "    Useful for creating functions with persistent state.\n",
    "\n",
    "    ```python\n",
    "    def outer_function(x):\n",
    "    def inner_function(y):\n",
    "        return x + y  # `x` is remembered from the outer scope\n",
    "    return inner_function\n",
    "\n",
    "    add_five = outer_function(5)  # Closure created\n",
    "    print(add_five(3))  # Output: 8\n",
    "    ```\n",
    "2) A decorator is a higher-order function used to:\n",
    "    Modify or extend the behavior of another function or method.\n",
    "    It is applied using the @decorator_name syntax.\n",
    "\n",
    "    ```python\n",
    "    def decorator(func):\n",
    "    def wrapper(*args, **kwargs):\n",
    "        print(\"Before the function call\")\n",
    "        result = func(*args, **kwargs)\n",
    "        print(\"After the function call\")\n",
    "        return result\n",
    "    return wrapper\n",
    "```py\n",
    "@decorator\n",
    "def say_hello():\n",
    "    print(\"Hello!\")\n",
    "\n",
    "say_hello()\n",
    "\n",
    "# Output:\n",
    "# Before the function call\n",
    "# Hello!\n",
    "# After the function call\n",
    "```\n",
    "\n"
   ]
  },
  {
   "cell_type": "code",
   "execution_count": 9,
   "metadata": {},
   "outputs": [],
   "source": [
    "countries = ['Estonia', 'Finland', 'Sweden', 'Denmark', 'Norway', 'Iceland']\n",
    "names = ['Asabeneh', 'Lidiya', 'Ermias', 'Abraham']\n",
    "numbers = [1, 2, 3, 4, 5, 6, 7, 8, 9, 10]"
   ]
  },
  {
   "cell_type": "markdown",
   "metadata": {},
   "source": [
    "4) Use for loop to print each country in the countries list."
   ]
  },
  {
   "cell_type": "code",
   "execution_count": 10,
   "metadata": {},
   "outputs": [
    {
     "name": "stdout",
     "output_type": "stream",
     "text": [
      "Estonia\n",
      "Finland\n",
      "Sweden\n",
      "Denmark\n",
      "Norway\n",
      "Iceland\n"
     ]
    }
   ],
   "source": [
    "for country in countries:\n",
    "    print(country)"
   ]
  },
  {
   "cell_type": "markdown",
   "metadata": {},
   "source": [
    "5) Use for loop to print each name in the names list."
   ]
  },
  {
   "cell_type": "code",
   "execution_count": 11,
   "metadata": {},
   "outputs": [
    {
     "name": "stdout",
     "output_type": "stream",
     "text": [
      "Asabeneh\n",
      "Lidiya\n",
      "Ermias\n",
      "Abraham\n"
     ]
    }
   ],
   "source": [
    "for name in names:\n",
    "    print(name)"
   ]
  },
  {
   "cell_type": "markdown",
   "metadata": {},
   "source": [
    "6) Use for to print each number in the numbers list."
   ]
  },
  {
   "cell_type": "code",
   "execution_count": 12,
   "metadata": {},
   "outputs": [
    {
     "name": "stdout",
     "output_type": "stream",
     "text": [
      "1\n",
      "2\n",
      "3\n",
      "4\n",
      "5\n",
      "6\n",
      "7\n",
      "8\n",
      "9\n",
      "10\n"
     ]
    }
   ],
   "source": [
    "for number in numbers:\n",
    "    print(number)"
   ]
  },
  {
   "cell_type": "markdown",
   "metadata": {},
   "source": [
    "#### Exercises: Level 2"
   ]
  },
  {
   "cell_type": "markdown",
   "metadata": {},
   "source": [
    "1) Use map to create a new list by changing each country to uppercase in the countries list"
   ]
  },
  {
   "cell_type": "code",
   "execution_count": 13,
   "metadata": {},
   "outputs": [
    {
     "name": "stdout",
     "output_type": "stream",
     "text": [
      "['ESTONIA', 'FINLAND', 'SWEDEN', 'DENMARK', 'NORWAY', 'ICELAND']\n"
     ]
    }
   ],
   "source": [
    "def convert_to_upper(item):\n",
    "    return item.upper()\n",
    "\n",
    "new_list = list(map(convert_to_upper,countries))\n",
    "\n",
    "print(new_list)\n",
    "    "
   ]
  },
  {
   "cell_type": "markdown",
   "metadata": {},
   "source": [
    "2) Use map to create a new list by changing each number to its square in the numbers list\n"
   ]
  },
  {
   "cell_type": "code",
   "execution_count": 14,
   "metadata": {},
   "outputs": [
    {
     "name": "stdout",
     "output_type": "stream",
     "text": [
      "[1, 4, 9, 16, 25, 36, 49, 64, 81, 100]\n"
     ]
    }
   ],
   "source": [
    "def squared(num):\n",
    "    return num ** 2\n",
    "\n",
    "new_num_list = list(map(squared,numbers))\n",
    "\n",
    "print(new_num_list)"
   ]
  },
  {
   "cell_type": "markdown",
   "metadata": {},
   "source": [
    "3) Use map to change each name to uppercase in the names list\n"
   ]
  },
  {
   "cell_type": "code",
   "execution_count": 15,
   "metadata": {},
   "outputs": [
    {
     "name": "stdout",
     "output_type": "stream",
     "text": [
      "['ASABENEH', 'LIDIYA', 'ERMIAS', 'ABRAHAM']\n"
     ]
    }
   ],
   "source": [
    "new_name_list = list(map(convert_to_upper,names))\n",
    "\n",
    "print(new_name_list)"
   ]
  },
  {
   "cell_type": "code",
   "execution_count": null,
   "metadata": {},
   "outputs": [],
   "source": []
  },
  {
   "cell_type": "markdown",
   "metadata": {},
   "source": [
    "4) Use filter to filter out countries containing 'land'.\n"
   ]
  },
  {
   "cell_type": "code",
   "execution_count": 16,
   "metadata": {},
   "outputs": [
    {
     "name": "stdout",
     "output_type": "stream",
     "text": [
      "['Finland', 'Iceland']\n"
     ]
    }
   ],
   "source": [
    "def filter_land(country):\n",
    "    if 'land' in country:\n",
    "        return True\n",
    "    else:\n",
    "        return False\n",
    "\n",
    "filtered_countries = list(filter(filter_land,countries))\n",
    "print(filtered_countries)"
   ]
  },
  {
   "cell_type": "markdown",
   "metadata": {},
   "source": [
    "3) Use filter to filter out countries having exactly six characters.\n",
    "   \n"
   ]
  },
  {
   "cell_type": "code",
   "execution_count": 17,
   "metadata": {},
   "outputs": [
    {
     "name": "stdout",
     "output_type": "stream",
     "text": [
      "['Sweden', 'Norway']\n"
     ]
    }
   ],
   "source": [
    "\n",
    "six_char_country = list(filter(lambda country: True if len(country) == 6 else False,countries))\n",
    "print(six_char_country)"
   ]
  },
  {
   "cell_type": "markdown",
   "metadata": {},
   "source": [
    "6) Use filter to filter out countries containing six letters and more in the country list.\n"
   ]
  },
  {
   "cell_type": "code",
   "execution_count": 18,
   "metadata": {},
   "outputs": [
    {
     "name": "stdout",
     "output_type": "stream",
     "text": [
      "['Estonia', 'Finland', 'Denmark', 'Iceland']\n"
     ]
    }
   ],
   "source": [
    "six_char_country = list(filter(lambda country: True if len(country) > 6 else False,countries))\n",
    "print(six_char_country)"
   ]
  },
  {
   "cell_type": "markdown",
   "metadata": {},
   "source": [
    "7) Use filter to filter out countries starting with an 'E'\n"
   ]
  },
  {
   "cell_type": "code",
   "execution_count": 19,
   "metadata": {},
   "outputs": [
    {
     "name": "stdout",
     "output_type": "stream",
     "text": [
      "['Estonia']\n"
     ]
    }
   ],
   "source": [
    "E_country = list(filter(lambda country: True if country[0] == 'E' else False,countries))\n",
    "print(E_country)"
   ]
  },
  {
   "cell_type": "markdown",
   "metadata": {},
   "source": [
    "8) Chain two or more list iterators (eg. arr.map(callback).filter(callback).reduce(callback))\n"
   ]
  },
  {
   "cell_type": "code",
   "execution_count": 20,
   "metadata": {},
   "outputs": [
    {
     "data": {
      "text/plain": [
       "['0', '1', '2', '3', '4', '5', '6', '7', '8', '9']"
      ]
     },
     "execution_count": 20,
     "metadata": {},
     "output_type": "execute_result"
    }
   ],
   "source": [
    "list_1 = [str(i) for i in range(10)]\n",
    "\n",
    "list_1"
   ]
  },
  {
   "cell_type": "code",
   "execution_count": 34,
   "metadata": {},
   "outputs": [
    {
     "name": "stdout",
     "output_type": "stream",
     "text": [
      "20\n"
     ]
    }
   ],
   "source": [
    "from functools import reduce\n",
    "def convert_int(item):\n",
    "    return int(item)\n",
    "def filter_even(number):\n",
    "    if number % 2 == 0:\n",
    "        return True\n",
    "    else:\n",
    "        return False\n",
    "def add(x,y):\n",
    "    return x+y\n",
    "\n",
    "print(reduce(add,filter(filter_even,map(convert_int,list_1))))"
   ]
  },
  {
   "cell_type": "markdown",
   "metadata": {},
   "source": [
    "8) Declare a function called get_string_lists which takes a list as a parameter and then returns a list containing only string items"
   ]
  },
  {
   "cell_type": "code",
   "execution_count": 22,
   "metadata": {},
   "outputs": [
    {
     "name": "stdout",
     "output_type": "stream",
     "text": [
      "['salim', 'a', '1', '5']\n"
     ]
    }
   ],
   "source": [
    "def is_string(item):\n",
    "    if isinstance(item,(str)):\n",
    "        return True\n",
    "    else:\n",
    "        return False\n",
    "\n",
    "def get_string_list(items_list):\n",
    "    return list(filter(is_string, items_list)) \n",
    "\n",
    "print(get_string_list([1,2,'salim','a','1',str(5)]))"
   ]
  },
  {
   "cell_type": "markdown",
   "metadata": {},
   "source": [
    "9) Use reduce to sum all the numbers in the numbers list.\n"
   ]
  },
  {
   "cell_type": "code",
   "execution_count": 35,
   "metadata": {},
   "outputs": [
    {
     "name": "stdout",
     "output_type": "stream",
     "text": [
      "55\n"
     ]
    }
   ],
   "source": [
    "print(reduce(add, numbers))\n"
   ]
  },
  {
   "cell_type": "markdown",
   "metadata": {},
   "source": [
    "10) Use reduce to concatenate all the countries and to produce this sentence: Estonia, Finland, Sweden, Denmark, Norway, and Iceland are north European countries"
   ]
  },
  {
   "cell_type": "code",
   "execution_count": 38,
   "metadata": {},
   "outputs": [
    {
     "name": "stdout",
     "output_type": "stream",
     "text": [
      "Estonia, Finland, Sweden, Denmark, Norway, Iceland are north European countries\n"
     ]
    }
   ],
   "source": [
    "def countries_concat(country1,country2):\n",
    "    return country1 + ', '+country2\n",
    "\n",
    "print(f'{reduce(countries_concat,countries)} are north European countries')"
   ]
  },
  {
   "cell_type": "markdown",
   "metadata": {},
   "source": [
    "12) Declare a function called categorize_countries that returns a list of countries with some common pattern (you can find the countries list in this repository as countries.js(eg 'land', 'ia', 'island', 'stan'))."
   ]
  },
  {
   "cell_type": "code",
   "execution_count": 56,
   "metadata": {},
   "outputs": [
    {
     "name": "stdout",
     "output_type": "stream",
     "text": [
      "{'Equatorial Guinea', 'Austria', 'Solomon Islands', 'United States Minor Outlying Islands', 'Cocos (Keeling) Islands', 'Cook Islands', 'Ireland', 'Syrian Arab Republic', 'Swaziland', 'Croatia', 'South Georgia and the South Sandwich Islands', 'India', 'Colombia', 'Switzerland', 'Venezuela (Bolivarian Republic of)', 'Saudi Arabia', 'Georgia', 'Nigeria', 'Virgin Islands (U.S.)', 'Mauritania', 'Bosnia and Herzegovina', 'Russian Federation', 'Somalia', 'Greenland', 'French Guiana', 'Ethiopia', 'Turks and Caicos Islands', 'Cambodia', 'Bolivia (Plurinational State of)', 'Thailand', 'Faroe Islands', 'Marshall Islands', 'Indonesia', 'Tanzania, United Republic of', 'Serbia', 'Saint Helena, Ascension and Tristan da Cunha', 'British Indian Ocean Territory', 'Macedonia (the former Yugoslav Republic of)', 'Malaysia', 'Namibia', 'Armenia', 'Heard Island and McDonald Islands', 'Saint Lucia', 'Algeria', 'Iceland', 'Falkland Islands (Malvinas)', 'Mongolia', 'Netherlands', 'New Zealand', 'Estonia', 'Poland', 'Uzbekistan', 'Turkmenistan', 'Slovakia', 'Romania', 'Afghanistan', 'Finland', 'Norfolk Island', 'Lithuania', 'Cayman Islands', 'Gambia', 'Slovenia', 'Kazakhstan', 'Christmas Island', 'Pakistan', 'Northern Mariana Islands', 'New Caledonia', 'French Polynesia', 'United Kingdom of Great Britain and Northern Ireland', 'Latvia', 'Zambia', 'Bouvet Island', 'Albania', 'Tunisia', 'Virgin Islands (British)', 'Åland Islands', 'Micronesia (Federated States of)', 'Bulgaria', 'Australia', 'Liberia', 'Kyrgyzstan', 'Tajikistan'}\n"
     ]
    }
   ],
   "source": [
    "from country_data import countries\n",
    "\n",
    "def categorize_countries(country_d):\n",
    "    similar_countries = []\n",
    "    for country in country_d:\n",
    "        if any(sub in country['name'] for sub in ['land', 'ia', 'island', 'stan']): #replaced (if ('land' or 'ia' or 'island' or 'stan') in country['name']) credit ChatGpt\n",
    "            similar_countries.append(country['name'])\n",
    "    return similar_countries\n",
    "\n",
    "sim_countries = set(categorize_countries(countries))\n",
    "\n",
    "print(sim_countries)\n"
   ]
  },
  {
   "cell_type": "markdown",
   "metadata": {},
   "source": [
    "13) Create a function returning a dictionary, where keys stand for starting letters of countries and values are the number of country names starting with that letter."
   ]
  },
  {
   "cell_type": "code",
   "execution_count": 63,
   "metadata": {},
   "outputs": [
    {
     "data": {
      "text/plain": [
       "{'A': 15,\n",
       " 'Å': 1,\n",
       " 'B': 21,\n",
       " 'U': 8,\n",
       " 'V': 5,\n",
       " 'C': 23,\n",
       " 'D': 4,\n",
       " 'E': 7,\n",
       " 'F': 8,\n",
       " 'G': 16,\n",
       " 'H': 6,\n",
       " 'I': 9,\n",
       " 'J': 4,\n",
       " 'K': 7,\n",
       " 'L': 9,\n",
       " 'M': 23,\n",
       " 'N': 13,\n",
       " 'O': 1,\n",
       " 'P': 12,\n",
       " 'Q': 1,\n",
       " 'R': 5,\n",
       " 'S': 33,\n",
       " 'T': 14,\n",
       " 'W': 2,\n",
       " 'Y': 1,\n",
       " 'Z': 2}"
      ]
     },
     "execution_count": 63,
     "metadata": {},
     "output_type": "execute_result"
    }
   ],
   "source": [
    "def countries_count(countries):\n",
    "    count_dict = {}\n",
    "    for country in countries:\n",
    "        if country['name'][0] in count_dict:\n",
    "            count_dict[country['name'][0]] += 1\n",
    "        else:\n",
    "            count_dict[country['name'][0]] = 1\n",
    "\n",
    "    return count_dict\n",
    "\n",
    "countries_count(countries)\n"
   ]
  },
  {
   "cell_type": "code",
   "execution_count": null,
   "metadata": {},
   "outputs": [],
   "source": [
    "14) Declare a get_first_ten_countries function - it returns a list of first ten countries from the countries.js list in the data folder."
   ]
  },
  {
   "cell_type": "code",
   "execution_count": 68,
   "metadata": {},
   "outputs": [
    {
     "name": "stdout",
     "output_type": "stream",
     "text": [
      "1 -- Afghanistan\n",
      "2 -- Åland Islands\n",
      "3 -- Albania\n",
      "4 -- Algeria\n",
      "5 -- American Samoa\n",
      "6 -- Andorra\n",
      "7 -- Angola\n",
      "8 -- Anguilla\n",
      "9 -- Antarctica\n",
      "10 -- Antigua and Barbuda\n"
     ]
    }
   ],
   "source": [
    "def get_first_ten_countries(countries):\n",
    "    f_ten_countries = [country['name'] for country in countries][:10]\n",
    "\n",
    "    return f_ten_countries\n",
    "\n",
    "for index, country in enumerate(get_first_ten_countries(countries)):\n",
    "    print(f'{index+1} -- {country}')"
   ]
  },
  {
   "cell_type": "markdown",
   "metadata": {},
   "source": [
    "15) Declare a get_last_ten_countries function that returns the last ten countries in the countries list.\n"
   ]
  },
  {
   "cell_type": "code",
   "execution_count": 78,
   "metadata": {},
   "outputs": [
    {
     "name": "stdout",
     "output_type": "stream",
     "text": [
      "1 -- Uruguay\n",
      "2 -- Uzbekistan\n",
      "3 -- Vanuatu\n",
      "4 -- Venezuela (Bolivarian Republic of)\n",
      "5 -- Viet Nam\n",
      "6 -- Wallis and Futuna\n",
      "7 -- Western Sahara\n",
      "8 -- Yemen\n",
      "9 -- Zambia\n",
      "10 -- Zimbabwe\n"
     ]
    }
   ],
   "source": [
    "def get_last_ten_countries(countries):\n",
    "    f_ten_countries = [country['name'] for country in countries][-10:]\n",
    "\n",
    "    return f_ten_countries\n",
    "\n",
    "for index, country in enumerate(get_last_ten_countries(countries)):\n",
    "    print(f'{index+1} -- {country}')"
   ]
  },
  {
   "cell_type": "markdown",
   "metadata": {},
   "source": [
    "# Exercises: Level 3"
   ]
  },
  {
   "cell_type": "markdown",
   "metadata": {},
   "source": [
    "1) Use the countries_data.py (https://github.com/Asabeneh/30-Days-Of-Python/blob/master/data/countries-data.py) file and follow the tasks below:\n",
    "- Sort countries by name, by capital, by population\n",
    "- Sort out the ten most spoken languages by location.\n",
    "- Sort out the ten most populated countries."
   ]
  },
  {
   "cell_type": "code",
   "execution_count": null,
   "metadata": {},
   "outputs": [],
   "source": [
    "from country_data import countries\n",
    "\n",
    "#sort by name\n",
    "\n"
   ]
  }
 ],
 "metadata": {
  "kernelspec": {
   "display_name": "base",
   "language": "python",
   "name": "python3"
  },
  "language_info": {
   "codemirror_mode": {
    "name": "ipython",
    "version": 3
   },
   "file_extension": ".py",
   "mimetype": "text/x-python",
   "name": "python",
   "nbconvert_exporter": "python",
   "pygments_lexer": "ipython3",
   "version": "3.8.20"
  }
 },
 "nbformat": 4,
 "nbformat_minor": 2
}
