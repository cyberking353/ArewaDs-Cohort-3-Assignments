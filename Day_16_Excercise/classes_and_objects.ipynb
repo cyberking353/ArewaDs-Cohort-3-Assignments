{
 "cells": [
  {
   "cell_type": "markdown",
   "metadata": {},
   "source": [
    "# 💻 Classes Exercises\n",
    "\n"
   ]
  },
  {
   "cell_type": "markdown",
   "metadata": {},
   "source": [
    "#### Exercises: Level 1\n"
   ]
  },
  {
   "cell_type": "markdown",
   "metadata": {},
   "source": [
    "1) Python has the module called statistics and we can use this module to do all the statistical calculations. However, to learn how to make function and reuse function let us try to develop a program, which calculates the measure of central tendency of a sample (mean, median, mode) and measure of variability (range, variance, standard deviation). In addition to those measures, find the min, max, count, percentile, and frequency distribution of the sample. You can create a class called Statistics and create all the functions that do statistical calculations as methods for the Statistics class. Check the output below."
   ]
  },
  {
   "cell_type": "code",
   "execution_count": 57,
   "metadata": {},
   "outputs": [],
   "source": [
    "class Statistics():\n",
    "    def __init__(self,data):\n",
    "        self.data = data\n",
    "    \n",
    "    def count(self):\n",
    "        return len(self.data)\n",
    "    \n",
    "    def min(self):\n",
    "        return min(self.data)\n",
    "    \n",
    "    def max(self):\n",
    "        return max(self.data)\n",
    "    \n",
    "    def range(self):\n",
    "        return max(self.data) - min(self.data)\n",
    "    \n",
    "    def sum(self):\n",
    "        return sum(self.data)\n",
    "    \n",
    "    def mean(self):\n",
    "        return sum(self.data) / len(self.data)\n",
    "    \n",
    "    def median(self):\n",
    "        data = self.data\n",
    "        median = 0\n",
    "        data = sorted(data)\n",
    "        if len(data) % 2 == 0:\n",
    "            median = (data[int(len(data)/2)] + data[int((len(data)/2))-1]) / 2\n",
    "        else:\n",
    "            median = data[int(len(data)//2)]\n",
    "        return median\n",
    "    \n",
    "    def mode(self):\n",
    "        frequency = {}\n",
    "        for value in self.data:\n",
    "            if value in frequency:\n",
    "                frequency[value] += 1\n",
    "            else:\n",
    "                frequency[value] = 1\n",
    "        \n",
    "        max_freq = max(frequency.values())\n",
    "        modes = [key for key, val in frequency.items() if val == max_freq]\n",
    "        count = frequency[modes[0]]\n",
    "        return {'mode':modes,'count':count}\n",
    "    \n",
    "    def var(self):\n",
    "        data = self.data\n",
    "        x = []\n",
    "        for i in data:\n",
    "            x.append((i - self.mean()) ** 2)\n",
    "    \n",
    "        variance = sum(x) / len(data)\n",
    "        return round(variance,2)\n",
    "    \n",
    "    def std(self):\n",
    "        return round(self.var() ** 0.5,2)\n",
    "    \n",
    "    def freq_dist(self):\n",
    "        dist = {}\n",
    "\n",
    "        for item in self.data:\n",
    "            if item in dist:\n",
    "                dist[item] += 1\n",
    "            else:\n",
    "                dist[item] = 1 \n",
    "        return [(float(val), key) for key,val in dist.items()]\n",
    "\n",
    "    def describe(self):\n",
    "        print('Count:', self.count()) \n",
    "        print('Sum: ', self.sum())\n",
    "        print('Min: ', self.min())\n",
    "        print('Max: ', self.max()) \n",
    "        print('Range: ', self.range())\n",
    "        print('Mean: ', self.mean())\n",
    "        print('Median: ', self.median())\n",
    "        print('Mode: ', self.mode()) \n",
    "        print('Standard Deviation: ', self.std())\n",
    "        print('Variance: ', self.var()) \n",
    "        print('Frequency Distribution: ', self.freq_dist())\n",
    "    "
   ]
  },
  {
   "cell_type": "code",
   "execution_count": 59,
   "metadata": {},
   "outputs": [
    {
     "name": "stdout",
     "output_type": "stream",
     "text": [
      "Count: 25\n",
      "Sum:  744\n",
      "Min:  24\n",
      "Max:  38\n",
      "Range:  14\n",
      "Mean:  29.76\n",
      "Median:  29\n",
      "Mode:  {'mode': [26], 'count': 5}\n",
      "Standard Deviation:  4.19\n",
      "Variance:  17.54\n",
      "Frequency Distribution:  [(2.0, 31), (5.0, 26), (2.0, 34), (2.0, 37), (4.0, 27), (3.0, 32), (2.0, 24), (2.0, 33), (1.0, 25), (1.0, 38), (1.0, 29)]\n"
     ]
    }
   ],
   "source": [
    "data = Statistics([31, 26, 34, 37, 27, 26, 32, 32, 26, 27, 27, 24, 32, 33, 27, 25, 26, 38, 37, 31, 34, 24, 33, 29, 26])\n",
    "\n",
    "data.describe()"
   ]
  },
  {
   "cell_type": "markdown",
   "metadata": {},
   "source": [
    "#### Exercises: Level 2\n"
   ]
  },
  {
   "cell_type": "markdown",
   "metadata": {},
   "source": [
    "1) Create a class called PersonAccount. It has firstname, lastname, incomes, expenses properties and it has total_income, total_expense, account_info, add_income, add_expense and account_balance methods. Incomes is a set of incomes and its description. The same goes for expenses."
   ]
  },
  {
   "cell_type": "code",
   "execution_count": 61,
   "metadata": {},
   "outputs": [],
   "source": [
    "class PersonAccount():\n",
    "    def __init(self,firstname,lastname,incomes,expenses):\n",
    "        self.firstname = firstname\n",
    "        self.lastname = lastname\n",
    "        self.incomes = incomes\n",
    "        self.expenses = expenses\n",
    "    \n",
    "    def total_income(self):\n",
    "        pass\n",
    "\n",
    "    def total_expenses(self):\n",
    "        pass\n",
    "\n",
    "    def account_info(self):\n",
    "        pass\n",
    "\n",
    "    def add_expense(self):\n",
    "        pass\n",
    "\n",
    "    def account_balance(self):\n",
    "        pass\n",
    "    \n",
    "    #saved for later"
   ]
  }
 ],
 "metadata": {
  "kernelspec": {
   "display_name": "base",
   "language": "python",
   "name": "python3"
  },
  "language_info": {
   "codemirror_mode": {
    "name": "ipython",
    "version": 3
   },
   "file_extension": ".py",
   "mimetype": "text/x-python",
   "name": "python",
   "nbconvert_exporter": "python",
   "pygments_lexer": "ipython3",
   "version": "3.8.20"
  }
 },
 "nbformat": 4,
 "nbformat_minor": 2
}
