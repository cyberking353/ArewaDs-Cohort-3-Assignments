{
 "cells": [
  {
   "cell_type": "markdown",
   "metadata": {},
   "source": [
    "# 💻 Python Datetime Exercises\n"
   ]
  },
  {
   "cell_type": "markdown",
   "metadata": {},
   "source": [
    "1) Get the current day, month, year, hour, minute and timestamp from datetime module\n"
   ]
  },
  {
   "cell_type": "code",
   "execution_count": 68,
   "metadata": {},
   "outputs": [
    {
     "name": "stdout",
     "output_type": "stream",
     "text": [
      "Day = 15\n",
      "Month = 1\n",
      "Year = 2025\n",
      "Hour = 19\n",
      "Minute = 24\n",
      "Second = 4\n"
     ]
    }
   ],
   "source": [
    "from datetime import datetime\n",
    "\n",
    "now = datetime.today()\n",
    "\n",
    "day = now.day\n",
    "month = now.month\n",
    "year = now.year\n",
    "hour = now.hour\n",
    "minute = now.minute\n",
    "second = now.second\n",
    "print(f'Day = {day}')\n",
    "print(f'Month = {month}')\n",
    "print(f'Year = {year}')\n",
    "print(f'Hour = {hour}')\n",
    "print(f'Minute = {minute}')\n",
    "print(f'Second = {second}')"
   ]
  },
  {
   "cell_type": "markdown",
   "metadata": {},
   "source": [
    "2) Format the current date using this format: \"%m/%d/%Y, %H:%M:%S\")\n"
   ]
  },
  {
   "cell_type": "code",
   "execution_count": 69,
   "metadata": {},
   "outputs": [
    {
     "name": "stdout",
     "output_type": "stream",
     "text": [
      "\"01/15/2025, 19:24:04\"\n"
     ]
    }
   ],
   "source": [
    "formated_datetime =  now.strftime('\"%m/%d/%Y, %H:%M:%S\"')\n",
    "print(formated_datetime)"
   ]
  },
  {
   "cell_type": "markdown",
   "metadata": {},
   "source": [
    "3) Today is 5 December, 2019. Change this time string to time.\n"
   ]
  },
  {
   "cell_type": "code",
   "execution_count": 71,
   "metadata": {},
   "outputs": [
    {
     "name": "stdout",
     "output_type": "stream",
     "text": [
      "2025-01-15 00:00:00\n"
     ]
    }
   ],
   "source": [
    "today = '15 January, 2025'\n",
    "\n",
    "today = datetime.strptime(today,'%d %B, %Y')\n",
    "\n",
    "print(today)"
   ]
  },
  {
   "cell_type": "markdown",
   "metadata": {},
   "source": [
    "4) Calculate the time difference between now and new year.\n"
   ]
  },
  {
   "cell_type": "code",
   "execution_count": 73,
   "metadata": {},
   "outputs": [
    {
     "name": "stdout",
     "output_type": "stream",
     "text": [
      "There are 350 days from the current date to next year\n"
     ]
    }
   ],
   "source": [
    "now = datetime.today()\n",
    "next_year = datetime(2026,1,1,0,0,0)\n",
    "\n",
    "days_to_next_year = next_year - now\n",
    "\n",
    "print('There are {} days from the current date to next year'.format(days_to_next_year.days))\n"
   ]
  },
  {
   "cell_type": "markdown",
   "metadata": {},
   "source": [
    "5) Calculate the time difference between 1 January 1970 and now.\n"
   ]
  },
  {
   "cell_type": "code",
   "execution_count": 74,
   "metadata": {},
   "outputs": [
    {
     "name": "stdout",
     "output_type": "stream",
     "text": [
      "The Difference is 20103 days, 19:37:08.966930\n"
     ]
    }
   ],
   "source": [
    "past_date = datetime(1970,1,1,0,0,0)\n",
    "today = datetime.today()\n",
    "\n",
    "print('The Difference is {}'.format(today-past_date))"
   ]
  },
  {
   "cell_type": "markdown",
   "metadata": {},
   "source": [
    "6) Think, what can you use the datetime module for? Examples:\n",
    "    - Time series analysis\n",
    "    - To get a timestamp of any activities in an application\n",
    "    - Adding posts on a blog"
   ]
  },
  {
   "cell_type": "markdown",
   "metadata": {},
   "source": []
  },
  {
   "cell_type": "code",
   "execution_count": null,
   "metadata": {},
   "outputs": [],
   "source": []
  },
  {
   "cell_type": "markdown",
   "metadata": {},
   "source": [
    "#### 💻 File Handling Exercises:\n"
   ]
  },
  {
   "cell_type": "markdown",
   "metadata": {},
   "source": [
    "#### Exercises: Level 1"
   ]
  },
  {
   "cell_type": "markdown",
   "metadata": {},
   "source": [
    "1) Write a function which count number of lines and number of words in a text. All the files are in the data the folder: a) Read obama_speech.txt file and count number of lines and words b) Read michelle_obama_speech.txt file and count number of lines and words c) Read donald_speech.txt file and count number of lines and words d) Read melina_trump_speech.txt file and count number of lines and words"
   ]
  },
  {
   "cell_type": "code",
   "execution_count": 144,
   "metadata": {},
   "outputs": [
    {
     "name": "stdout",
     "output_type": "stream",
     "text": [
      "The Obama Speech has 66 lines and 2432 words\n",
      "The Michelle Obama Speech has 83 lines and 2246 words\n",
      "The Donald Speech has 48 lines and 1262 words\n",
      "The Melina Trump Speech has 33 lines and 1392 words\n"
     ]
    }
   ],
   "source": [
    "def txt_line_word_counter(filename):\n",
    "    try:\n",
    "        with open(filename, 'r') as file_obj:\n",
    "            lines = file_obj.readlines()\n",
    "            num_lines = len(lines)\n",
    "            words = ''\n",
    "            for line in lines:\n",
    "                words = words +' '+line\n",
    "            num_words = len(words.split(' '))\n",
    "    except Exception as e:\n",
    "        num_lines = None\n",
    "        num_words = None\n",
    "        print(e)\n",
    "    return num_lines, num_words\n",
    "\n",
    "n_lines, n_words = txt_line_word_counter('obama_speech.txt')\n",
    "\n",
    "print('The Obama Speech has {} lines and {} words'.format(n_lines,n_words))\n",
    "\n",
    "n_lines, n_words = txt_line_word_counter('michelle_obama_speech.txt')\n",
    "\n",
    "print('The Michelle Obama Speech has {} lines and {} words'.format(n_lines,n_words))\n",
    "\n",
    "n_lines, n_words = txt_line_word_counter('donald_speech.txt')\n",
    "\n",
    "print('The Donald Speech has {} lines and {} words'.format(n_lines,n_words))\n",
    "\n",
    "n_lines, n_words = txt_line_word_counter('melina_trump_speech.txt')\n",
    "\n",
    "print('The Melina Trump Speech has {} lines and {} words'.format(n_lines,n_words))\n",
    "\n"
   ]
  },
  {
   "cell_type": "markdown",
   "metadata": {},
   "source": [
    "2) Read the countries_data.json data file in data directory, create a function that finds the ten most spoken languages\n",
    "\n"
   ]
  },
  {
   "cell_type": "code",
   "execution_count": 158,
   "metadata": {},
   "outputs": [
    {
     "name": "stdout",
     "output_type": "stream",
     "text": [
      "[('English', 91), ('French', 45), ('Arabic', 25), ('Spanish', 24), ('Portuguese', 9), ('Russian', 9), ('Dutch', 8), ('German', 7), ('Chinese', 5), ('Serbian', 4)]\n"
     ]
    }
   ],
   "source": [
    "import json\n",
    "import os\n",
    "\n",
    "def most_spoken_languages(filename,num_countries):\n",
    "    \n",
    "    if os.path.exists(filename):\n",
    "        file = open(filename,'r')\n",
    "        country_data = json.load(file)\n",
    "        file.close()\n",
    "\n",
    "        languages = []\n",
    "\n",
    "        for country in country_data:\n",
    "            languages.extend(country[\"languages\"])\n",
    "\n",
    "\n",
    "        languages_count = {}\n",
    "\n",
    "        for language in languages:\n",
    "            if language in languages_count:\n",
    "                languages_count[language] += 1\n",
    "            else:\n",
    "                languages_count[language] = 1\n",
    "\n",
    "        sorted_lannguages = dict(sorted(languages_count.items(), key = lambda item: item[1], reverse=True))\n",
    "\n",
    "        sorted_countries = list(sorted_lannguages.items())[:num_countries] \n",
    "    else:\n",
    "        print(\"Check Your file path, it Does not Exist!\")\n",
    "        sorted_countries = None\n",
    "    \n",
    "    return sorted_countries\n",
    "\n",
    "sort_c = most_spoken_languages('countries_data.json',10)\n",
    "print(sort_c)"
   ]
  },
  {
   "cell_type": "markdown",
   "metadata": {},
   "source": [
    "3) Read the countries_data.json data file in data directory, create a function that creates a list of the ten most populated countries"
   ]
  },
  {
   "cell_type": "code",
   "execution_count": 160,
   "metadata": {},
   "outputs": [
    {
     "name": "stdout",
     "output_type": "stream",
     "text": [
      "[('China', 1377422166), ('India', 1295210000), ('United States of America', 323947000), ('Indonesia', 258705000), ('Brazil', 206135893), ('Pakistan', 194125062), ('Nigeria', 186988000), ('Bangladesh', 161006790), ('Russian Federation', 146599183), ('Japan', 126960000)]\n"
     ]
    }
   ],
   "source": [
    "def most_populated_countries(filename,num_countries):\n",
    "    if os.path.exists(filename):\n",
    "        file = open(filename,'r')\n",
    "        country_data = json.load(file)\n",
    "        country_population = {}\n",
    "\n",
    "        for country in country_data:\n",
    "            country_population[country[\"name\"]] = country[\"population\"]\n",
    "\n",
    "        country_population = dict(sorted(country_population.items(), key=lambda item: item[1], reverse=True))\n",
    "        \n",
    "        country_population = list(country_population.items())[:num_countries]\n",
    "    else:\n",
    "        print(\"file path does not exist!\")\n",
    "        country_population = None\n",
    "    return country_population\n",
    "\n",
    "most_p_c = most_populated_countries('countries_data.json',10)\n",
    "\n",
    "print(most_p_c)"
   ]
  },
  {
   "cell_type": "code",
   "execution_count": null,
   "metadata": {},
   "outputs": [],
   "source": []
  }
 ],
 "metadata": {
  "kernelspec": {
   "display_name": "base",
   "language": "python",
   "name": "python3"
  },
  "language_info": {
   "codemirror_mode": {
    "name": "ipython",
    "version": 3
   },
   "file_extension": ".py",
   "mimetype": "text/x-python",
   "name": "python",
   "nbconvert_exporter": "python",
   "pygments_lexer": "ipython3",
   "version": "3.8.20"
  }
 },
 "nbformat": 4,
 "nbformat_minor": 2
}
