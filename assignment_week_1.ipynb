{
 "cells": [
  {
   "cell_type": "code",
   "execution_count": 15,
   "metadata": {},
   "outputs": [
    {
     "name": "stdout",
     "output_type": "stream",
     "text": [
      "10\n"
     ]
    }
   ],
   "source": [
    "#1 Simple Variable Assignment\n",
    "\n",
    "x = 10\n",
    "\n",
    "print(x)"
   ]
  },
  {
   "cell_type": "code",
   "execution_count": 16,
   "metadata": {},
   "outputs": [
    {
     "name": "stdout",
     "output_type": "stream",
     "text": [
      "25\n",
      "5.9\n",
      "john\n",
      "True\n"
     ]
    }
   ],
   "source": [
    "#2 Assigning Different Data Types\n",
    "\n",
    "age = 25\n",
    "height = 5.9\n",
    "name = \"john\"\n",
    "is_active = True\n",
    "\n",
    "print(age)\n",
    "print(height)\n",
    "print(name)\n",
    "print(is_active)\n"
   ]
  },
  {
   "cell_type": "code",
   "execution_count": 17,
   "metadata": {},
   "outputs": [
    {
     "name": "stdout",
     "output_type": "stream",
     "text": [
      "50\n"
     ]
    }
   ],
   "source": [
    "#simple Addition\n",
    "\n",
    "number_1 = 20\n",
    "number_2 = 30\n",
    "\n",
    "print(number_1+number_2)"
   ]
  },
  {
   "cell_type": "code",
   "execution_count": 18,
   "metadata": {},
   "outputs": [
    {
     "name": "stdout",
     "output_type": "stream",
     "text": [
      "Alice Wonderland\n"
     ]
    }
   ],
   "source": [
    "#4 String Concatenation\n",
    "\n",
    "first_name = \"Alice\"\n",
    "Last_name = \"Wonderland\"\n",
    "\n",
    "full_name = first_name +\" \"+ Last_name\n",
    "\n",
    "print(full_name)"
   ]
  },
  {
   "cell_type": "code",
   "execution_count": 19,
   "metadata": {},
   "outputs": [
    {
     "name": "stdout",
     "output_type": "stream",
     "text": [
      "<class 'str'>\n"
     ]
    }
   ],
   "source": [
    "#5 Variable Type Check\n",
    "\n",
    "x = \"Hello\"\n",
    "\n",
    "print(type(x))"
   ]
  },
  {
   "cell_type": "code",
   "execution_count": 20,
   "metadata": {},
   "outputs": [
    {
     "name": "stdout",
     "output_type": "stream",
     "text": [
      "Before Swap\n",
      "a = 10\n",
      "b = 5\n",
      "After Swap\n",
      "a = 5\n",
      "b = 10\n"
     ]
    }
   ],
   "source": [
    "#6 Swap Two Variables\n",
    "\n",
    "a = 10\n",
    "\n",
    "b = 5 \n",
    "\n",
    "print(\"Before Swap\")\n",
    "print(\"a =\", a)\n",
    "print(\"b =\", b)\n",
    "\n",
    "a,b = b,a\n",
    "\n",
    "print(\"After Swap\")\n",
    "\n",
    "print(\"a =\", a)\n",
    "print(\"b =\", b)"
   ]
  },
  {
   "cell_type": "code",
   "execution_count": 21,
   "metadata": {},
   "outputs": [
    {
     "name": "stdout",
     "output_type": "stream",
     "text": [
      "15+4 = 19\n",
      "15*4 = 60\n",
      "15/4 = 3.75\n",
      "15%4 = 3\n"
     ]
    }
   ],
   "source": [
    "#7 Arithmetic Operations \n",
    "\n",
    "x = 15\n",
    "y = 4\n",
    "\n",
    "print(f'{x}+{y} = {x+y}')\n",
    "print(f'{x}*{y} = {x*y}')\n",
    "print(f'{x}/{y} = {x/y}')\n",
    "print(f'{x}%{y} = {x%y}')"
   ]
  },
  {
   "cell_type": "code",
   "execution_count": 22,
   "metadata": {},
   "outputs": [
    {
     "name": "stdout",
     "output_type": "stream",
     "text": [
      "1 2 3\n"
     ]
    }
   ],
   "source": [
    "#8 Multiple Variable Assignment \n",
    "\n",
    "x,y,z = 3, 2, 1\n",
    "print(z,y,x)"
   ]
  },
  {
   "cell_type": "code",
   "execution_count": 23,
   "metadata": {},
   "outputs": [
    {
     "name": "stdout",
     "output_type": "stream",
     "text": [
      "The final Value of counter =  12\n"
     ]
    }
   ],
   "source": [
    "#9 Updating Variable Values \n",
    "\n",
    "counter = 10\n",
    "\n",
    "counter += 5\n",
    "\n",
    "counter -= 3\n",
    "\n",
    "print(\"The final Value of counter = \", counter)"
   ]
  },
  {
   "cell_type": "code",
   "execution_count": 24,
   "metadata": {},
   "outputs": [
    {
     "name": "stdout",
     "output_type": "stream",
     "text": [
      "50\n"
     ]
    }
   ],
   "source": [
    "#10 Variable Re-Assignment \n",
    "\n",
    "x = 100\n",
    "\n",
    "#reassigning new value to x\n",
    "\n",
    "x = 50\n",
    "\n",
    "print(x)"
   ]
  },
  {
   "cell_type": "code",
   "execution_count": null,
   "metadata": {},
   "outputs": [],
   "source": [
    "#11 User input and Variable Assignment \n",
    "\n",
    "name = input(\"Hello, Welcome To Arewa Data Science Cohort 3.0, What's your Name? \")\n",
    "\n",
    "print(\"Good Morning \"+name+ \" How May I be of Help Today?\")"
   ]
  },
  {
   "cell_type": "code",
   "execution_count": 1,
   "metadata": {},
   "outputs": [
    {
     "name": "stdout",
     "output_type": "stream",
     "text": [
      "type of \"42\" is <class 'str'>\n",
      "type of \"42\" is now <class 'int'>\n"
     ]
    }
   ],
   "source": [
    "#12 String to Integer Conversion\n",
    "\n",
    "num_str = \"42\"\n",
    "\n",
    "print(f'type of \"{num_str}\" is {type(num_str)}')\n",
    "\n",
    "num_str = int(num_str)\n",
    "\n",
    "print(f'type of \"{num_str}\" is now {type(num_str)}')"
   ]
  },
  {
   "cell_type": "code",
   "execution_count": 3,
   "metadata": {},
   "outputs": [
    {
     "name": "stdout",
     "output_type": "stream",
     "text": [
      "type of \"100\" is <class 'int'>\n",
      "type of \"100\" is now <class 'str'>\n"
     ]
    }
   ],
   "source": [
    "#13 Integer to String Conversion\n",
    "\n",
    "num = 100\n",
    "\n",
    "print(f'type of \"{num}\" is {type(num)}')\n",
    "\n",
    "num = str(num)\n",
    "\n",
    "print(f'type of \"{num}\" is now {type(num)}')\n"
   ]
  },
  {
   "cell_type": "code",
   "execution_count": 4,
   "metadata": {},
   "outputs": [
    {
     "name": "stdout",
     "output_type": "stream",
     "text": [
      "apple\n"
     ]
    }
   ],
   "source": [
    "#14 Working with Lists\n",
    "\n",
    "fruits = [\"apple\", \"banana\", \"cherry\"]\n",
    "\n",
    "favorite_fruit = fruits[0]\n",
    "\n",
    "print(favorite_fruit)"
   ]
  },
  {
   "cell_type": "code",
   "execution_count": 5,
   "metadata": {},
   "outputs": [
    {
     "name": "stdout",
     "output_type": "stream",
     "text": [
      "14\n"
     ]
    }
   ],
   "source": [
    "#15 String Length\n",
    "\n",
    "message = \"Hello, Python!\"\n",
    "\n",
    "length = len(message)\n",
    "\n",
    "print(length)"
   ]
  },
  {
   "cell_type": "code",
   "execution_count": 6,
   "metadata": {},
   "outputs": [
    {
     "name": "stdout",
     "output_type": "stream",
     "text": [
      "3.14+2.71 = 5.85\n",
      "3.14-2.71 = 0.43000000000000016\n",
      "3.14*2.71 = 8.5094\n"
     ]
    }
   ],
   "source": [
    "#16 Floating-Point Arithmetic \n",
    "\n",
    "a = 3.14 \n",
    "\n",
    "b = 2.71\n",
    "\n",
    "print(f'{a}+{b} = {a+b}')\n",
    "print(f'{a}-{b} = {a-b}')\n",
    "print(f'{a}*{b} = {a*b}')"
   ]
  },
  {
   "cell_type": "code",
   "execution_count": 7,
   "metadata": {},
   "outputs": [
    {
     "name": "stdout",
     "output_type": "stream",
     "text": [
      "hello, John Doe!\n"
     ]
    }
   ],
   "source": [
    "#17 Combining Strings with Variables\n",
    "\n",
    "first_name = \"John\"\n",
    "\n",
    "Last_name = \"Doe\"\n",
    "\n",
    "print(\"hello, \"+first_name+\" \"+Last_name+\"!\")"
   ]
  },
  {
   "cell_type": "code",
   "execution_count": 8,
   "metadata": {},
   "outputs": [
    {
     "name": "stdout",
     "output_type": "stream",
     "text": [
      "My name is Alice and I am 25 years old.\n"
     ]
    }
   ],
   "source": [
    "#18 String Formatting with f-strings \n",
    "\n",
    "age = 25 \n",
    "\n",
    "name = \"Alice\"\n",
    "\n",
    "print(f'My name is {name} and I am {age} years old.')\n"
   ]
  },
  {
   "cell_type": "code",
   "execution_count": 9,
   "metadata": {},
   "outputs": [
    {
     "name": "stdout",
     "output_type": "stream",
     "text": [
      "3.14159\n"
     ]
    }
   ],
   "source": [
    "#19 Constants Convention\n",
    "\n",
    "PI = 3.14159\n",
    "\n",
    "print(PI)\n",
    "\n",
    "#Constant Are written in uppercase unlike other languages that provide a way to define Constanst,\n",
    "#python does not provide a keyword to define constant values but the uppercase convention is widely \n",
    "#accepted in the python community as a way of showing a particular value is a contant value."
   ]
  },
  {
   "cell_type": "code",
   "execution_count": 10,
   "metadata": {},
   "outputs": [
    {
     "name": "stdout",
     "output_type": "stream",
     "text": [
      "25\n"
     ]
    }
   ],
   "source": [
    "#20 working with Dictionaries\n",
    "\n",
    "person = {\"name\": \"Alice\",\"age\": 25}\n",
    "\n",
    "age_value = person['age']\n",
    "\n",
    "print(age_value)"
   ]
  },
  {
   "cell_type": "code",
   "execution_count": 11,
   "metadata": {},
   "outputs": [
    {
     "name": "stdout",
     "output_type": "stream",
     "text": [
      "local variable 'x' =  1\n",
      "Global variable 'x' =  10\n",
      "None\n"
     ]
    }
   ],
   "source": [
    "#21 Using Global and Local Variables \n",
    "\n",
    "x = 10\n",
    "\n",
    "def simple():\n",
    "    x = 1\n",
    "    print(\"local variable 'x' = \", x)\n",
    "\n",
    "\n",
    "simple()\n",
    "print(print(\"Global variable 'x' = \", x))\n",
    "\n",
    "\n",
    "    \n"
   ]
  },
  {
   "cell_type": "code",
   "execution_count": null,
   "metadata": {},
   "outputs": [],
   "source": [
    "#22 Swapping Values with Pythonic Method\n",
    "\n",
    "x , y = 5, 10\n",
    "\n",
    "x, y = y, x\n",
    "\n",
    "print('x = ', x)\n",
    "print('y = ', y)"
   ]
  },
  {
   "cell_type": "code",
   "execution_count": 12,
   "metadata": {},
   "outputs": [
    {
     "name": "stdout",
     "output_type": "stream",
     "text": [
      "it's Sunny....\n"
     ]
    }
   ],
   "source": [
    "#23 Boolean Expressions\n",
    "\n",
    "is_sunny = True\n",
    "\n",
    "is_raining = False\n",
    "\n",
    "if is_raining:\n",
    "    print(\"it's Raining....\")\n",
    "\n",
    "if is_sunny:\n",
    "    print(\"it's Sunny....\")"
   ]
  },
  {
   "cell_type": "code",
   "execution_count": 13,
   "metadata": {},
   "outputs": [
    {
     "name": "stdout",
     "output_type": "stream",
     "text": [
      "100 50 30\n"
     ]
    }
   ],
   "source": [
    "#24 Typecasting Multiple Variables\n",
    "\n",
    "x = \"100\"\n",
    "\n",
    "y = \"50\"\n",
    "\n",
    "z = \"30\"\n",
    "\n",
    "x, y, z = int(x), int(y), int(z)\n",
    "\n",
    "print(x,y,z)"
   ]
  },
  {
   "cell_type": "code",
   "execution_count": 14,
   "metadata": {},
   "outputs": [
    {
     "name": "stdout",
     "output_type": "stream",
     "text": [
      "Python is cool\n"
     ]
    }
   ],
   "source": [
    "#25 Modifying String Values\n",
    "\n",
    "sentence = \"Python is Awesome\"\n",
    "\n",
    "sentence = sentence.replace(\"Awesome\", \"cool\")\n",
    "\n",
    "print(sentence)\n"
   ]
  },
  {
   "cell_type": "code",
   "execution_count": 15,
   "metadata": {},
   "outputs": [
    {
     "name": "stdout",
     "output_type": "stream",
     "text": [
      "bob is 30 years old\n"
     ]
    }
   ],
   "source": [
    "#26 Complex Variable Assignment\n",
    "\n",
    "person = {\"name\":\"bob\",\"age\":30}\n",
    "\n",
    "person_name = person[\"name\"]\n",
    "person_age = person[\"age\"]\n",
    "\n",
    "print(f\"{person_name} is {person_age} years old\")\n"
   ]
  },
  {
   "cell_type": "code",
   "execution_count": 16,
   "metadata": {},
   "outputs": [
    {
     "name": "stdout",
     "output_type": "stream",
     "text": [
      "hello Salim Bello!\n"
     ]
    }
   ],
   "source": [
    "#27 Using Variables in Functions\n",
    "def greet(name):\n",
    "\n",
    "    print(\"hello\", name+\"!\")\n",
    "\n",
    "greet(\"Salim Bello\")"
   ]
  },
  {
   "cell_type": "code",
   "execution_count": 17,
   "metadata": {},
   "outputs": [
    {
     "name": "stdout",
     "output_type": "stream",
     "text": [
      "3\n"
     ]
    }
   ],
   "source": [
    "#28 Counting Occurances \n",
    "\n",
    "text = \"apple apple banana apple\"\n",
    "\n",
    "apple_count = text.count(\"apple\")\n",
    "\n",
    "print(apple_count)\n",
    "\n"
   ]
  },
  {
   "cell_type": "code",
   "execution_count": 19,
   "metadata": {},
   "outputs": [
    {
     "name": "stdout",
     "output_type": "stream",
     "text": [
      "12\n"
     ]
    }
   ],
   "source": [
    "#29 Working with Multiple Variables in a Function\n",
    "\n",
    "def add_number(a,b):\n",
    "\n",
    "    return a + b\n",
    "\n",
    "result = add_number(5,7)\n",
    "\n",
    "print(result)"
   ]
  },
  {
   "cell_type": "code",
   "execution_count": 20,
   "metadata": {},
   "outputs": [
    {
     "name": "stdout",
     "output_type": "stream",
     "text": [
      "[2, 4, 6, 8, 10]\n"
     ]
    }
   ],
   "source": [
    "#Using Variables in List and Loops\n",
    "\n",
    "numbers = list(range(1,6))\n",
    "\n",
    "doubled_numbers = list()\n",
    "\n",
    "for number in numbers:\n",
    "    doubled_numbers.append(number * 2) \n",
    "\n",
    "print(doubled_numbers)"
   ]
  }
 ],
 "metadata": {
  "kernelspec": {
   "display_name": "base",
   "language": "python",
   "name": "python3"
  },
  "language_info": {
   "codemirror_mode": {
    "name": "ipython",
    "version": 3
   },
   "file_extension": ".py",
   "mimetype": "text/x-python",
   "name": "python",
   "nbconvert_exporter": "python",
   "pygments_lexer": "ipython3",
   "version": "3.8.20"
  }
 },
 "nbformat": 4,
 "nbformat_minor": 2
}
