{
 "cells": [
  {
   "cell_type": "markdown",
   "metadata": {},
   "source": [
    "# Web Scraping Exercises:"
   ]
  },
  {
   "cell_type": "markdown",
   "metadata": {},
   "source": [
    "1) Scrape the following website and store the data as json file(url = 'http://www.bu.edu/president/boston-university-facts-stats/').\n"
   ]
  },
  {
   "cell_type": "code",
   "execution_count": 2,
   "metadata": {},
   "outputs": [
    {
     "name": "stdout",
     "output_type": "stream",
     "text": [
      "200\n"
     ]
    }
   ],
   "source": [
    "import requests\n",
    "from bs4 import BeautifulSoup\n",
    "\n",
    "url = 'https://www.bu.edu/president/boston-university-facts-stats/'\n",
    "\n",
    "response = requests.get(url)\n",
    "\n",
    "print(response.status_code)"
   ]
  },
  {
   "cell_type": "code",
   "execution_count": 3,
   "metadata": {},
   "outputs": [
    {
     "name": "stdout",
     "output_type": "stream",
     "text": [
      "{'Research Expenditures': 554, 'Study Abroad Programs': '80+', 'Sponsored Research Awards': 645, 'Classrooms': 848, 'Buildings': 343, 'Laboratories': 13, 'Libraries': 140, 'Student Body': '37,557', 'Living Alumni': '431,000+', 'Total Employees': '10,674', 'Faculty': '4,309', 'Nondegree Students': '1,337', 'Graduate & Professional Students': '18,476', 'Undergraduate Students': '17,744', 'Average Class Size': '30', 'Student/Faculty Ratio': '11:1', 'Schools and Colleges': '17', 'Programs of Study': '300+'}\n"
     ]
    }
   ],
   "source": [
    "import json\n",
    "\n",
    "countent = response.content\n",
    "\n",
    "soup = BeautifulSoup(countent,'html.parser')\n",
    "\n",
    "keys = [text.text.strip() for text in soup.find_all('h3',{'class':'bu-stat-title'})]\n",
    "values_1 = [text.text.strip() for text in soup.find_all('span',{'class':'bu-stat-value-field'})]\n",
    "values = []\n",
    "\n",
    "for val in values_1:\n",
    "    try:\n",
    "        fl = float(val)\n",
    "        values.append(int(fl))\n",
    "    except:\n",
    "        continue\n",
    "\n",
    "quick_fact_stat = dict((zip(keys,values)))\n",
    "\n",
    "\n",
    "# community and academic stat\n",
    "\n",
    "comm_acad_stat = [(key.text.strip(), value.text.strip()) for key,value in zip(soup.find_all('span',{'class':'stat-label'}),soup.find_all('span',{'class':'stat-figure'}))]\n",
    "\n",
    "comm_acad_stat = dict(comm_acad_stat)\n",
    "\n",
    "quick_fact_stat.update(comm_acad_stat)\n",
    "\n",
    "stat_bu = quick_fact_stat\n",
    "\n",
    "print(stat_bu)\n",
    "\n",
    "with open('bu_stat.json','w') as f_obj:\n",
    "    json.dump(stat_bu,f_obj)"
   ]
  },
  {
   "cell_type": "markdown",
   "metadata": {},
   "source": [
    "2) Extract the table in this url (https://archive.ics.uci.edu/ml/datasets.php) and change it to a json file\n"
   ]
  },
  {
   "cell_type": "code",
   "execution_count": 4,
   "metadata": {},
   "outputs": [
    {
     "name": "stdout",
     "output_type": "stream",
     "text": [
      "200\n"
     ]
    }
   ],
   "source": [
    "url = 'https://archive.ics.uci.edu/datasets?skip=5&take=25&sort=desc&orderBy=NumHits&search='\n",
    "\n",
    "response = requests.get(url)\n",
    "\n",
    "print(response.status_code)"
   ]
  },
  {
   "cell_type": "code",
   "execution_count": 5,
   "metadata": {},
   "outputs": [],
   "source": [
    "countent = response.content\n",
    "\n",
    "soup = BeautifulSoup(countent,'html.parser')\n",
    "\n",
    "datasets_names = soup.find_all('a',{'class':'link-hover link text-xl font-semibold'})\n",
    "\n",
    "datasets_names = [name.text for name in datasets_names]\n",
    "\n",
    "descriptions = [desc.text for desc in soup.find_all('p',{'class':'truncate mr-8'})]\n",
    "\n",
    "info = [key for key in soup.find_all('span',{'class':'truncate'})]\n",
    "\n",
    "#print(info)\n",
    "\n",
    "#saved for later"
   ]
  },
  {
   "cell_type": "code",
   "execution_count": 6,
   "metadata": {},
   "outputs": [
    {
     "data": {
      "text/plain": [
       "{'a': 'a', 'b': 'b', 'c': 'c'}"
      ]
     },
     "execution_count": 6,
     "metadata": {},
     "output_type": "execute_result"
    }
   ],
   "source": [
    "dict((zip((\"a\",\"b\",\"c\"),(\"a\",\"b\",\"c\"))))"
   ]
  },
  {
   "cell_type": "code",
   "execution_count": null,
   "metadata": {},
   "outputs": [],
   "source": []
  }
 ],
 "metadata": {
  "kernelspec": {
   "display_name": "base",
   "language": "python",
   "name": "python3"
  },
  "language_info": {
   "codemirror_mode": {
    "name": "ipython",
    "version": 3
   },
   "file_extension": ".py",
   "mimetype": "text/x-python",
   "name": "python",
   "nbconvert_exporter": "python",
   "pygments_lexer": "ipython3",
   "version": "3.8.20"
  }
 },
 "nbformat": 4,
 "nbformat_minor": 2
}
