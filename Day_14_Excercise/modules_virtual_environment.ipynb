{
 "cells": [
  {
   "cell_type": "markdown",
   "metadata": {},
   "source": [
    "# 💻 Exercises: Module 14\n",
    "\n"
   ]
  },
  {
   "cell_type": "markdown",
   "metadata": {},
   "source": [
    "1) Write a function which generates a six digit/character random_user_id.\n"
   ]
  },
  {
   "cell_type": "code",
   "execution_count": 1,
   "metadata": {},
   "outputs": [
    {
     "name": "stdout",
     "output_type": "stream",
     "text": [
      "0PfoEK\n"
     ]
    }
   ],
   "source": [
    "import random\n",
    "import string\n",
    "\n",
    "def random_user_id():\n",
    "    alpha_num = string.ascii_letters + str(string.digits)\n",
    "\n",
    "    random_indices = [random.randint(0,61) for _ in range(6)]\n",
    "\n",
    "    id_str = ''\n",
    "\n",
    "    for i in random_indices:\n",
    "        id_str += alpha_num[i]\n",
    "        \n",
    "\n",
    "    return id_str\n",
    "\n",
    "\n",
    "\n",
    "print(random_user_id())"
   ]
  },
  {
   "cell_type": "markdown",
   "metadata": {},
   "source": [
    "2) Modify the previous task. Declare a function named user_id_gen_by_user. It doesn’t take any parameters but it takes two inputs using input(). One of the inputs is the number of characters and the second input is the number of IDs which are supposed to be generated."
   ]
  },
  {
   "cell_type": "code",
   "execution_count": 2,
   "metadata": {},
   "outputs": [],
   "source": [
    "def user_id_gen_by_user():\n",
    "    n_chars = int(input(\"Enter Number of Characters :\"))\n",
    "    n_ids = int(input(\"Enter Number of IDs :\"))\n",
    "\n",
    "    alpha_num = string.ascii_letters + str(string.digits)\n",
    "\n",
    "    random_indices = [[random.randint(0,61) for _ in range(n_chars)] for _ in range(n_ids)]\n",
    "\n",
    "    gen_ids = []\n",
    "\n",
    "    for indices in random_indices:\n",
    "        id_str = ''\n",
    "        for index in indices:\n",
    "            id_str += alpha_num[index]\n",
    "        gen_ids.append(id_str)\n",
    "        \n",
    "    for i in gen_ids:\n",
    "        print(i)"
   ]
  },
  {
   "cell_type": "code",
   "execution_count": 3,
   "metadata": {},
   "outputs": [
    {
     "name": "stdout",
     "output_type": "stream",
     "text": [
      "InIE1obBuf\n",
      "wP454cY6ml\n",
      "PQjZJcHj6R\n",
      "So78gZ2Lts\n",
      "yHSvjDK0zK\n",
      "sLG3fVXNge\n",
      "sI62jXteOc\n",
      "FtYK44RXLv\n",
      "lySYLy9DQ5\n",
      "g4K5s0KQpl\n"
     ]
    }
   ],
   "source": [
    "user_id_gen_by_user()"
   ]
  },
  {
   "cell_type": "markdown",
   "metadata": {},
   "source": [
    "3) Write a function named rgb_color_gen. It will generate rgb colors (3 values ranging from 0 to 255 each).\n"
   ]
  },
  {
   "cell_type": "code",
   "execution_count": 4,
   "metadata": {},
   "outputs": [
    {
     "name": "stdout",
     "output_type": "stream",
     "text": [
      "rbg(124,255,140)\n",
      "rbg(206,60,124)\n"
     ]
    }
   ],
   "source": [
    "def rbg_color_gen():\n",
    "    return 'rbg({},{},{})'.format(random.randint(0,255),random.randint(0,255),random.randint(0,255))\n",
    "\n",
    "print(rbg_color_gen())\n",
    "print(rbg_color_gen())"
   ]
  },
  {
   "cell_type": "markdown",
   "metadata": {},
   "source": [
    "#### Exercises: Level 2\n"
   ]
  },
  {
   "cell_type": "markdown",
   "metadata": {},
   "source": [
    "1) Write a function list_of_hexa_colors which returns any number of hexadecimal colors in an array (six hexadecimal numbers written after #. Hexadecimal numeral system is made out of 16 symbols, 0-9 and first 6 letters of the alphabet, a-f. Check the task 6 for output examples).\n"
   ]
  },
  {
   "cell_type": "code",
   "execution_count": 5,
   "metadata": {},
   "outputs": [
    {
     "name": "stdout",
     "output_type": "stream",
     "text": [
      "['#DAEFDF', '#BF96F5', '#45E1E1', '#9F5FB3', '#5B8D77', '#35C7BC', '#F7FC02', '#1F4603', '#1975B9', '#8DE11A', '#0334AC', '#C9F0ED', '#AF20C4', '#F87A64', '#361FA5', '#89CECF', '#FFB8CC', '#AB2FB3', '#747AD2', '#CC492F', '#CFF94B', '#11A249', '#6FBD6E', '#3A09AE', '#25AB72', '#9CAE6D', '#197CE6', '#7D5E5E', '#6A600E', '#494362']\n",
      "['#3A7544']\n"
     ]
    }
   ],
   "source": [
    "def list_of_hexa_colors(num=1):\n",
    "    hex_string = 'ABCDEF0123456789'\n",
    "    random_indices = [[random.randint(0,15) for _ in range(6)] for _ in range(num)]\n",
    "    hex_colors = []\n",
    "\n",
    "    for indices in random_indices:\n",
    "        hex_str = '#'\n",
    "        for index in indices:\n",
    "            hex_str += hex_string[index]\n",
    "        hex_colors.append(hex_str)\n",
    "    \n",
    "    \n",
    "    return hex_colors\n",
    "\n",
    "print(list_of_hexa_colors(30))\n",
    "print(list_of_hexa_colors())"
   ]
  },
  {
   "cell_type": "markdown",
   "metadata": {},
   "source": [
    "3) Write a function list_of_rgb_colors which returns any number of RGB colors in an array.\n"
   ]
  },
  {
   "cell_type": "code",
   "execution_count": 6,
   "metadata": {},
   "outputs": [
    {
     "name": "stdout",
     "output_type": "stream",
     "text": [
      "['rbg(254,252,3)', 'rbg(86,45,104)', 'rbg(230,212,190)']\n"
     ]
    }
   ],
   "source": [
    "def list_of_rgb_colors(num=1):\n",
    "    rgb_list = [rbg_color_gen() for _ in range(num)]\n",
    "    return rgb_list\n",
    "\n",
    "print(list_of_rgb_colors(3))"
   ]
  },
  {
   "cell_type": "markdown",
   "metadata": {},
   "source": [
    "3) Write a function generate_colors which can generate any number of hexa or rgb colors.\n"
   ]
  },
  {
   "cell_type": "code",
   "execution_count": 7,
   "metadata": {},
   "outputs": [
    {
     "name": "stdout",
     "output_type": "stream",
     "text": [
      "['#E54490', '#D6E1D7', '#49DCED']\n",
      "['rbg(152,178,4)', 'rbg(53,247,47)', 'rbg(225,138,241)', 'rbg(192,21,169)']\n"
     ]
    }
   ],
   "source": [
    "def generate_colors(type,num=1):\n",
    "    if type.lower() == 'hexa':\n",
    "        return list_of_hexa_colors(num)\n",
    "    elif type.lower() == 'rbg':\n",
    "        return list_of_rgb_colors(num) \n",
    "    else:\n",
    "        return \"Error! Type not recognized\"\n",
    "\n",
    "print(generate_colors('hexa',3))\n",
    "print(generate_colors('RBG',4))"
   ]
  },
  {
   "cell_type": "markdown",
   "metadata": {},
   "source": [
    "#### Exercises: Level 3"
   ]
  },
  {
   "cell_type": "markdown",
   "metadata": {},
   "source": [
    "1) Call your function shuffle_list, it takes a list as a parameter and it returns a shuffled list\n"
   ]
  },
  {
   "cell_type": "code",
   "execution_count": 8,
   "metadata": {},
   "outputs": [
    {
     "name": "stdout",
     "output_type": "stream",
     "text": [
      "['Gombe', 3, 'ahmad', 'salim', 1]\n"
     ]
    }
   ],
   "source": [
    "def shuffle_list(item_list): \n",
    "    random_indices = random.sample(range(0,len(item_list)),len(item_list) )\n",
    "    \n",
    "    shuffled_list = [item_list[i] for i in random_indices]\n",
    "\n",
    "    return shuffled_list\n",
    "\n",
    "print(shuffle_list([\"salim\",\"ahmad\",1,3,\"Gombe\"])) "
   ]
  },
  {
   "cell_type": "markdown",
   "metadata": {},
   "source": [
    "2) Write a function which returns an array of seven random numbers in a range of 0-9. All the numbers must be unique.\n"
   ]
  },
  {
   "cell_type": "code",
   "execution_count": 9,
   "metadata": {},
   "outputs": [
    {
     "name": "stdout",
     "output_type": "stream",
     "text": [
      "[2, 1, 5, 8, 0, 4, 6]\n"
     ]
    }
   ],
   "source": [
    "def random_array():\n",
    "    return random.sample(range(0,9),7)\n",
    "\n",
    "print(random_array())"
   ]
  }
 ],
 "metadata": {
  "kernelspec": {
   "display_name": "base",
   "language": "python",
   "name": "python3"
  },
  "language_info": {
   "codemirror_mode": {
    "name": "ipython",
    "version": 3
   },
   "file_extension": ".py",
   "mimetype": "text/x-python",
   "name": "python",
   "nbconvert_exporter": "python",
   "pygments_lexer": "ipython3",
   "version": "3.8.20"
  }
 },
 "nbformat": 4,
 "nbformat_minor": 2
}
