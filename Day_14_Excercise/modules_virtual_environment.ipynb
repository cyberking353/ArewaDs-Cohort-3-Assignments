{
 "cells": [
  {
   "cell_type": "markdown",
   "metadata": {},
   "source": [
    "# 💻 Exercises: Module 14\n",
    "\n"
   ]
  },
  {
   "cell_type": "markdown",
   "metadata": {},
   "source": [
    "1) Write a function which generates a six digit/character random_user_id.\n"
   ]
  },
  {
   "cell_type": "code",
   "execution_count": 1,
   "metadata": {},
   "outputs": [
    {
     "name": "stdout",
     "output_type": "stream",
     "text": [
      "N8cvQH\n"
     ]
    }
   ],
   "source": [
    "import random\n",
    "import string\n",
    "\n",
    "def random_user_id():\n",
    "    alpha_num = string.ascii_letters + str(string.digits)\n",
    "\n",
    "    random_indices = [random.randint(0,61) for _ in range(6)]\n",
    "\n",
    "    id_str = ''\n",
    "\n",
    "    for i in random_indices:\n",
    "        id_str += alpha_num[i]\n",
    "        \n",
    "\n",
    "    return id_str\n",
    "\n",
    "\n",
    "\n",
    "print(random_user_id())"
   ]
  },
  {
   "cell_type": "markdown",
   "metadata": {},
   "source": [
    "2) Modify the previous task. Declare a function named user_id_gen_by_user. It doesn’t take any parameters but it takes two inputs using input(). One of the inputs is the number of characters and the second input is the number of IDs which are supposed to be generated."
   ]
  },
  {
   "cell_type": "code",
   "execution_count": 2,
   "metadata": {},
   "outputs": [],
   "source": [
    "def user_id_gen_by_user():\n",
    "    n_chars = int(input(\"Enter Number of Characters :\"))\n",
    "    n_ids = int(input(\"Enter Number of IDs :\"))\n",
    "\n",
    "    alpha_num = string.ascii_letters + str(string.digits)\n",
    "\n",
    "    random_indices = [[random.randint(0,61) for _ in range(n_chars)] for _ in range(n_ids)]\n",
    "\n",
    "    gen_ids = []\n",
    "\n",
    "    for indices in random_indices:\n",
    "        id_str = ''\n",
    "        for index in indices:\n",
    "            id_str += alpha_num[index]\n",
    "        gen_ids.append(id_str)\n",
    "        \n",
    "    for i in gen_ids:\n",
    "        print(i)"
   ]
  },
  {
   "cell_type": "code",
   "execution_count": 3,
   "metadata": {},
   "outputs": [
    {
     "ename": "ValueError",
     "evalue": "invalid literal for int() with base 10: ''",
     "output_type": "error",
     "traceback": [
      "\u001b[0;31m---------------------------------------------------------------------------\u001b[0m",
      "\u001b[0;31mValueError\u001b[0m                                Traceback (most recent call last)",
      "Cell \u001b[0;32mIn[3], line 1\u001b[0m\n\u001b[0;32m----> 1\u001b[0m \u001b[43muser_id_gen_by_user\u001b[49m\u001b[43m(\u001b[49m\u001b[43m)\u001b[49m\n",
      "Cell \u001b[0;32mIn[2], line 2\u001b[0m, in \u001b[0;36muser_id_gen_by_user\u001b[0;34m()\u001b[0m\n\u001b[1;32m      1\u001b[0m \u001b[38;5;28;01mdef\u001b[39;00m \u001b[38;5;21muser_id_gen_by_user\u001b[39m():\n\u001b[0;32m----> 2\u001b[0m     n_chars \u001b[38;5;241m=\u001b[39m \u001b[38;5;28;43mint\u001b[39;49m\u001b[43m(\u001b[49m\u001b[38;5;28;43minput\u001b[39;49m\u001b[43m(\u001b[49m\u001b[38;5;124;43m\"\u001b[39;49m\u001b[38;5;124;43mEnter Number of Characters :\u001b[39;49m\u001b[38;5;124;43m\"\u001b[39;49m\u001b[43m)\u001b[49m\u001b[43m)\u001b[49m\n\u001b[1;32m      3\u001b[0m     n_ids \u001b[38;5;241m=\u001b[39m \u001b[38;5;28mint\u001b[39m(\u001b[38;5;28minput\u001b[39m(\u001b[38;5;124m\"\u001b[39m\u001b[38;5;124mEnter Number of IDs :\u001b[39m\u001b[38;5;124m\"\u001b[39m))\n\u001b[1;32m      5\u001b[0m     alpha_num \u001b[38;5;241m=\u001b[39m string\u001b[38;5;241m.\u001b[39mascii_letters \u001b[38;5;241m+\u001b[39m \u001b[38;5;28mstr\u001b[39m(string\u001b[38;5;241m.\u001b[39mdigits)\n",
      "\u001b[0;31mValueError\u001b[0m: invalid literal for int() with base 10: ''"
     ]
    }
   ],
   "source": [
    "user_id_gen_by_user()"
   ]
  },
  {
   "cell_type": "markdown",
   "metadata": {},
   "source": [
    "3) Write a function named rgb_color_gen. It will generate rgb colors (3 values ranging from 0 to 255 each).\n"
   ]
  },
  {
   "cell_type": "code",
   "execution_count": null,
   "metadata": {},
   "outputs": [
    {
     "name": "stdout",
     "output_type": "stream",
     "text": [
      "rbg(207,3,219)\n",
      "rbg(50,81,46)\n"
     ]
    }
   ],
   "source": [
    "def rbg_color_gen():\n",
    "    return 'rbg({},{},{})'.format(random.randint(0,255),random.randint(0,255),random.randint(0,255))\n",
    "\n",
    "print(rbg_color_gen())\n",
    "print(rbg_color_gen())"
   ]
  },
  {
   "cell_type": "markdown",
   "metadata": {},
   "source": [
    "#### Exercises: Level 2\n"
   ]
  },
  {
   "cell_type": "markdown",
   "metadata": {},
   "source": [
    "1) Write a function list_of_hexa_colors which returns any number of hexadecimal colors in an array (six hexadecimal numbers written after #. Hexadecimal numeral system is made out of 16 symbols, 0-9 and first 6 letters of the alphabet, a-f. Check the task 6 for output examples).\n"
   ]
  },
  {
   "cell_type": "code",
   "execution_count": 4,
   "metadata": {},
   "outputs": [
    {
     "name": "stdout",
     "output_type": "stream",
     "text": [
      "['#FA76E2', '#868F19', '#2B4575', '#AA67BD', '#622967', '#8E4F74', '#E7F866', '#34E922', '#7C1565', '#F73C23', '#D3B33D', '#9F25F9', '#BDEA7F', '#113BDE', '#059FAB', '#73B0F7', '#9C0C3D', '#0B6382', '#CD82C9', '#A4BCFC', '#E12D74', '#1AF0BC', '#2AA0EC', '#28C390', '#BC29C8', '#80795A', '#3D2871', '#F08703', '#60A44F', '#180814']\n",
      "['#6B070D']\n"
     ]
    }
   ],
   "source": [
    "def list_of_hexa_colors(num=1):\n",
    "    hex_string = 'ABCDEF0123456789'\n",
    "    random_indices = [[random.randint(0,15) for _ in range(6)] for _ in range(num)]\n",
    "    hex_colors = []\n",
    "\n",
    "    for indices in random_indices:\n",
    "        hex_str = '#'\n",
    "        for index in indices:\n",
    "            hex_str += hex_string[index]\n",
    "        hex_colors.append(hex_str)\n",
    "    \n",
    "    \n",
    "    return hex_colors\n",
    "\n",
    "print(list_of_hexa_colors(30))\n",
    "print(list_of_hexa_colors())"
   ]
  },
  {
   "cell_type": "markdown",
   "metadata": {},
   "source": [
    "3) Write a function list_of_rgb_colors which returns any number of RGB colors in an array.\n"
   ]
  },
  {
   "cell_type": "code",
   "execution_count": null,
   "metadata": {},
   "outputs": [
    {
     "name": "stdout",
     "output_type": "stream",
     "text": [
      "['rbg(15,249,121)', 'rbg(108,233,10)', 'rbg(133,150,248)']\n"
     ]
    }
   ],
   "source": [
    "def list_of_rgb_colors(num=1):\n",
    "    rgb_list = [rbg_color_gen() for _ in range(num)]\n",
    "    return rgb_list\n",
    "\n",
    "print(list_of_rgb_colors(3))"
   ]
  },
  {
   "cell_type": "markdown",
   "metadata": {},
   "source": [
    "3) Write a function generate_colors which can generate any number of hexa or rgb colors.\n"
   ]
  },
  {
   "cell_type": "code",
   "execution_count": null,
   "metadata": {},
   "outputs": [
    {
     "name": "stdout",
     "output_type": "stream",
     "text": [
      "['#1D84AA', '#C0A523', '#B1011A']\n",
      "['rbg(205,195,39)', 'rbg(244,7,208)', 'rbg(196,213,99)', 'rbg(158,142,125)']\n"
     ]
    }
   ],
   "source": [
    "def generate_colors(type,num=1):\n",
    "    if type.lower() == 'hexa':\n",
    "        return list_of_hexa_colors(num)\n",
    "    elif type.lower() == 'rbg':\n",
    "        return list_of_rgb_colors(num) \n",
    "    else:\n",
    "        return \"Error! Type not recognized\"\n",
    "\n",
    "print(generate_colors('hexa',3))\n",
    "print(generate_colors('RBG',4))"
   ]
  },
  {
   "cell_type": "markdown",
   "metadata": {},
   "source": [
    "#### Exercises: Level 3"
   ]
  },
  {
   "cell_type": "markdown",
   "metadata": {},
   "source": [
    "1) Call your function shuffle_list, it takes a list as a parameter and it returns a shuffled list\n"
   ]
  },
  {
   "cell_type": "code",
   "execution_count": null,
   "metadata": {},
   "outputs": [
    {
     "name": "stdout",
     "output_type": "stream",
     "text": [
      "[3, 'Gombe', 1, 'salim', 'ahmad']\n"
     ]
    }
   ],
   "source": [
    "def shuffle_list(item_list): \n",
    "    random_indices = random.sample(range(0,len(item_list)),len(item_list) )\n",
    "    \n",
    "    shuffled_list = [item_list[i] for i in random_indices]\n",
    "\n",
    "    return shuffled_list\n",
    "\n",
    "print(shuffle_list([\"salim\",\"ahmad\",1,3,\"Gombe\"])) "
   ]
  },
  {
   "cell_type": "markdown",
   "metadata": {},
   "source": [
    "2) Write a function which returns an array of seven random numbers in a range of 0-9. All the numbers must be unique.\n"
   ]
  },
  {
   "cell_type": "code",
   "execution_count": null,
   "metadata": {},
   "outputs": [
    {
     "name": "stdout",
     "output_type": "stream",
     "text": [
      "[7, 2, 5, 6, 1, 3, 0]\n"
     ]
    }
   ],
   "source": [
    "def random_array():\n",
    "    return random.sample(range(0,9),7)\n",
    "\n",
    "print(random_array())"
   ]
  },
  {
   "cell_type": "code",
   "execution_count": null,
   "metadata": {},
   "outputs": [],
   "source": []
  }
 ],
 "metadata": {
  "kernelspec": {
   "display_name": "base",
   "language": "python",
   "name": "python3"
  },
  "language_info": {
   "codemirror_mode": {
    "name": "ipython",
    "version": 3
   },
   "file_extension": ".py",
   "mimetype": "text/x-python",
   "name": "python",
   "nbconvert_exporter": "python",
   "pygments_lexer": "ipython3",
   "version": "3.8.20"
  }
 },
 "nbformat": 4,
 "nbformat_minor": 2
}
