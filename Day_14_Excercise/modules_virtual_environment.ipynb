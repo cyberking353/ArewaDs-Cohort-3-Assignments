{
 "cells": [
  {
   "cell_type": "markdown",
   "metadata": {},
   "source": [
    "# 💻 Exercises: Module 14\n",
    "\n"
   ]
  },
  {
   "cell_type": "markdown",
   "metadata": {},
   "source": [
    "1) Write a function which generates a six digit/character random_user_id.\n"
   ]
  },
  {
   "cell_type": "code",
   "execution_count": 2,
   "metadata": {},
   "outputs": [
    {
     "name": "stdout",
     "output_type": "stream",
     "text": [
      "XvD913\n"
     ]
    }
   ],
   "source": [
    "import random\n",
    "import string\n",
    "\n",
    "def random_user_id():\n",
    "    alpha_num = string.ascii_letters + str(string.digits)\n",
    "\n",
    "    random_indices = [random.randint(0,61) for _ in range(6)]\n",
    "\n",
    "    id_str = ''\n",
    "\n",
    "    for i in random_indices:\n",
    "        id_str += alpha_num[i]\n",
    "        \n",
    "\n",
    "    return id_str\n",
    "\n",
    "\n",
    "\n",
    "print(random_user_id())"
   ]
  },
  {
   "cell_type": "markdown",
   "metadata": {},
   "source": [
    "2) Modify the previous task. Declare a function named user_id_gen_by_user. It doesn’t take any parameters but it takes two inputs using input(). One of the inputs is the number of characters and the second input is the number of IDs which are supposed to be generated."
   ]
  },
  {
   "cell_type": "code",
   "execution_count": null,
   "metadata": {},
   "outputs": [],
   "source": [
    "def user_id_gen_by_user():\n",
    "    n_chars = int(input(\"Enter Number of Characters :\"))\n",
    "    n_ids = int(input(\"Enter Number of IDs :\"))\n",
    "\n",
    "    alpha_num = string.ascii_letters + str(string.digits)\n",
    "\n",
    "    random_indices = [[random.randint(0,61) for _ in range(n_chars)] for _ in range(n_ids)]\n",
    "\n",
    "    gen_ids = []\n",
    "\n",
    "    for indices in random_indices:\n",
    "        id_str = ''\n",
    "        for index in indices:\n",
    "            id_str += alpha_num[index]\n",
    "        gen_ids.append(id_str)\n",
    "        \n",
    "    for i in gen_ids:\n",
    "        print(i)"
   ]
  },
  {
   "cell_type": "code",
   "execution_count": 4,
   "metadata": {},
   "outputs": [
    {
     "name": "stdout",
     "output_type": "stream",
     "text": [
      "Gh9jxFojMI\n",
      "dzhC9E55sY\n",
      "ejwom7WroI\n",
      "Z0PkpQNvr4\n",
      "azDEe4pYtL\n",
      "gCulyIROsL\n",
      "fqSUvH21OI\n",
      "qCVFUdYBun\n",
      "6WqLrh2X1F\n",
      "ZG6dGKoG0A\n"
     ]
    }
   ],
   "source": [
    "user_id_gen_by_user()"
   ]
  },
  {
   "cell_type": "markdown",
   "metadata": {},
   "source": [
    "3) Write a function named rgb_color_gen. It will generate rgb colors (3 values ranging from 0 to 255 each).\n"
   ]
  },
  {
   "cell_type": "code",
   "execution_count": 24,
   "metadata": {},
   "outputs": [
    {
     "name": "stdout",
     "output_type": "stream",
     "text": [
      "rbg(207,3,219)\n",
      "rbg(50,81,46)\n"
     ]
    }
   ],
   "source": [
    "def rbg_color_gen():\n",
    "    return 'rbg({},{},{})'.format(random.randint(0,255),random.randint(0,255),random.randint(0,255))\n",
    "\n",
    "print(rbg_color_gen())\n",
    "print(rbg_color_gen())"
   ]
  },
  {
   "cell_type": "markdown",
   "metadata": {},
   "source": [
    "#### Exercises: Level 2\n"
   ]
  },
  {
   "cell_type": "markdown",
   "metadata": {},
   "source": [
    "1) Write a function list_of_hexa_colors which returns any number of hexadecimal colors in an array (six hexadecimal numbers written after #. Hexadecimal numeral system is made out of 16 symbols, 0-9 and first 6 letters of the alphabet, a-f. Check the task 6 for output examples).\n"
   ]
  },
  {
   "cell_type": "code",
   "execution_count": 21,
   "metadata": {},
   "outputs": [
    {
     "name": "stdout",
     "output_type": "stream",
     "text": [
      "['#D21E29', '#076AC5', '#4FA236']\n",
      "['#706656']\n"
     ]
    }
   ],
   "source": [
    "def list_of_hexa_colors(num=1):\n",
    "    hex_string = 'ABCDEF0123456789'\n",
    "    random_indices = [[random.randint(0,15) for _ in range(6)] for _ in range(num)]\n",
    "    hex_colors = []\n",
    "\n",
    "    for indices in random_indices:\n",
    "        hex_str = '#'\n",
    "        for index in indices:\n",
    "            hex_str += hex_string[index]\n",
    "        hex_colors.append(hex_str)\n",
    "    \n",
    "    \n",
    "    return hex_colors\n",
    "\n",
    "print(list_of_hexa_colors(3))\n",
    "print(list_of_hexa_colors())"
   ]
  },
  {
   "cell_type": "markdown",
   "metadata": {},
   "source": [
    "3) Write a function list_of_rgb_colors which returns any number of RGB colors in an array.\n"
   ]
  },
  {
   "cell_type": "code",
   "execution_count": 33,
   "metadata": {},
   "outputs": [
    {
     "name": "stdout",
     "output_type": "stream",
     "text": [
      "['rbg(15,249,121)', 'rbg(108,233,10)', 'rbg(133,150,248)']\n"
     ]
    }
   ],
   "source": [
    "def list_of_rgb_colors(num=1):\n",
    "    rgb_list = [rbg_color_gen() for _ in range(num)]\n",
    "    return rgb_list\n",
    "\n",
    "print(list_of_rgb_colors(3))"
   ]
  },
  {
   "cell_type": "markdown",
   "metadata": {},
   "source": [
    "3) Write a function generate_colors which can generate any number of hexa or rgb colors.\n"
   ]
  },
  {
   "cell_type": "code",
   "execution_count": 34,
   "metadata": {},
   "outputs": [
    {
     "name": "stdout",
     "output_type": "stream",
     "text": [
      "['#1D84AA', '#C0A523', '#B1011A']\n",
      "['rbg(205,195,39)', 'rbg(244,7,208)', 'rbg(196,213,99)', 'rbg(158,142,125)']\n"
     ]
    }
   ],
   "source": [
    "def generate_colors(type,num=1):\n",
    "    if type.lower() == 'hexa':\n",
    "        return list_of_hexa_colors(num)\n",
    "    elif type.lower() == 'rbg':\n",
    "        return list_of_rgb_colors(num) \n",
    "    else:\n",
    "        return \"Error! Type not recognized\"\n",
    "\n",
    "print(generate_colors('hexa',3))\n",
    "print(generate_colors('RBG',4))"
   ]
  },
  {
   "cell_type": "markdown",
   "metadata": {},
   "source": [
    "#### Exercises: Level 3"
   ]
  },
  {
   "cell_type": "markdown",
   "metadata": {},
   "source": [
    "1) Call your function shuffle_list, it takes a list as a parameter and it returns a shuffled list\n"
   ]
  },
  {
   "cell_type": "code",
   "execution_count": 35,
   "metadata": {},
   "outputs": [
    {
     "name": "stdout",
     "output_type": "stream",
     "text": [
      "[3, 'Gombe', 1, 'salim', 'ahmad']\n"
     ]
    }
   ],
   "source": [
    "def shuffle_list(item_list): \n",
    "    random_indices = random.sample(range(0,len(item_list)),len(item_list) )\n",
    "    \n",
    "    shuffled_list = [item_list[i] for i in random_indices]\n",
    "\n",
    "    return shuffled_list\n",
    "\n",
    "print(shuffle_list([\"salim\",\"ahmad\",1,3,\"Gombe\"])) "
   ]
  },
  {
   "cell_type": "markdown",
   "metadata": {},
   "source": [
    "2) Write a function which returns an array of seven random numbers in a range of 0-9. All the numbers must be unique.\n"
   ]
  },
  {
   "cell_type": "code",
   "execution_count": 36,
   "metadata": {},
   "outputs": [
    {
     "name": "stdout",
     "output_type": "stream",
     "text": [
      "[7, 2, 5, 6, 1, 3, 0]\n"
     ]
    }
   ],
   "source": [
    "def random_array():\n",
    "    return random.sample(range(0,9),7)\n",
    "\n",
    "print(random_array())"
   ]
  },
  {
   "cell_type": "code",
   "execution_count": null,
   "metadata": {},
   "outputs": [],
   "source": []
  }
 ],
 "metadata": {
  "kernelspec": {
   "display_name": "base",
   "language": "python",
   "name": "python3"
  },
  "language_info": {
   "codemirror_mode": {
    "name": "ipython",
    "version": 3
   },
   "file_extension": ".py",
   "mimetype": "text/x-python",
   "name": "python",
   "nbconvert_exporter": "python",
   "pygments_lexer": "ipython3",
   "version": "3.8.20"
  }
 },
 "nbformat": 4,
 "nbformat_minor": 2
}
