{
 "cells": [
  {
   "cell_type": "markdown",
   "metadata": {},
   "source": [
    "# 💻 Exercises: Module 14\n",
    "\n"
   ]
  },
  {
   "cell_type": "markdown",
   "metadata": {},
   "source": [
    "1) Write a function which generates a six digit/character random_user_id.\n"
   ]
  },
  {
   "cell_type": "code",
   "execution_count": 112,
   "metadata": {},
   "outputs": [
    {
     "name": "stdout",
     "output_type": "stream",
     "text": [
      "Sy7ypS\n"
     ]
    }
   ],
   "source": [
    "import random\n",
    "import string\n",
    "\n",
    "def random_user_id():\n",
    "    alpha_num = string.ascii_letters + str(string.digits)\n",
    "\n",
    "    random_indices = [random.randint(0,61) for _ in range(6)]\n",
    "\n",
    "    id_str = ''\n",
    "\n",
    "    for i in random_indices:\n",
    "        id_str += alpha_num[i]\n",
    "        \n",
    "\n",
    "    return id_str\n",
    "\n",
    "\n",
    "\n",
    "print(random_user_id())"
   ]
  },
  {
   "cell_type": "markdown",
   "metadata": {},
   "source": [
    "2) Modify the previous task. Declare a function named user_id_gen_by_user. It doesn’t take any parameters but it takes two inputs using input(). One of the inputs is the number of characters and the second input is the number of IDs which are supposed to be generated."
   ]
  },
  {
   "cell_type": "code",
   "execution_count": 107,
   "metadata": {},
   "outputs": [],
   "source": [
    "def user_id_gen_by_user():\n",
    "    n_chars = int(input(\"Enter Number of Characters :\"))\n",
    "    n_ids = int(input(\"Enter Number of IDs :\"))\n",
    "\n",
    "    alpha_num = string.ascii_letters + str(string.digits)\n",
    "\n",
    "    random_indices = [[random.randint(0,61) for _ in range(n_chars)] for _ in range(n_ids)]\n",
    "\n",
    "    gen_ids = []\n",
    "\n",
    "    for indices in random_indices:\n",
    "        id_str = ''\n",
    "        for index in indices:\n",
    "            id_str += alpha_num[index]\n",
    "        gen_ids.append(id_str)\n",
    "        \n",
    "    for i in gen_ids:\n",
    "        print(i)"
   ]
  },
  {
   "cell_type": "code",
   "execution_count": 108,
   "metadata": {},
   "outputs": [
    {
     "name": "stdout",
     "output_type": "stream",
     "text": [
      "O4cHQWirb4\n",
      "QoKV7pbyNS\n",
      "S08kzlaXly\n",
      "rN3qtGkCM6\n",
      "yuIFm5vM2d\n",
      "L4CPMPAaBS\n",
      "CC3tJg7B1X\n",
      "cPVVv1tZlc\n",
      "vJ7qlk692F\n",
      "xhv7jmM2h4\n"
     ]
    }
   ],
   "source": [
    "user_id_gen_by_user()"
   ]
  },
  {
   "cell_type": "markdown",
   "metadata": {},
   "source": [
    "3) Write a function named rgb_color_gen. It will generate rgb colors (3 values ranging from 0 to 255 each).\n"
   ]
  },
  {
   "cell_type": "code",
   "execution_count": 109,
   "metadata": {},
   "outputs": [
    {
     "name": "stdout",
     "output_type": "stream",
     "text": [
      "rbg(193,58,167)\n",
      "rbg(244,71,194)\n"
     ]
    }
   ],
   "source": [
    "def rbg_color_gen():\n",
    "    print('rbg({},{},{})'.format(random.randint(0,255),random.randint(0,255),random.randint(0,255)))\n",
    "\n",
    "rbg_color_gen()\n",
    "rbg_color_gen()"
   ]
  },
  {
   "cell_type": "markdown",
   "metadata": {},
   "source": [
    "#### Exercises: Level 3"
   ]
  },
  {
   "cell_type": "markdown",
   "metadata": {},
   "source": [
    "1) Call your function shuffle_list, it takes a list as a parameter and it returns a shuffled list\n"
   ]
  },
  {
   "cell_type": "code",
   "execution_count": 110,
   "metadata": {},
   "outputs": [],
   "source": [
    "def shuffle_list(item_list):\n",
    "    pass"
   ]
  },
  {
   "cell_type": "code",
   "execution_count": null,
   "metadata": {},
   "outputs": [],
   "source": []
  }
 ],
 "metadata": {
  "kernelspec": {
   "display_name": "base",
   "language": "python",
   "name": "python3"
  },
  "language_info": {
   "codemirror_mode": {
    "name": "ipython",
    "version": 3
   },
   "file_extension": ".py",
   "mimetype": "text/x-python",
   "name": "python",
   "nbconvert_exporter": "python",
   "pygments_lexer": "ipython3",
   "version": "3.8.20"
  }
 },
 "nbformat": 4,
 "nbformat_minor": 2
}
