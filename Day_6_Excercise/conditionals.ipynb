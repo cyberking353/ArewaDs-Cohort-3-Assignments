{
 "cells": [
  {
   "cell_type": "markdown",
   "metadata": {},
   "source": [
    "# Conditionals Exercises"
   ]
  },
  {
   "cell_type": "markdown",
   "metadata": {},
   "source": [
    "#### Exercises: Level 1"
   ]
  },
  {
   "cell_type": "markdown",
   "metadata": {},
   "source": [
    "1) Get user input using input(“Enter your age: ”). If user is 18 or older, give feedback: You are old enough to drive. If below 18 give feedback to wait for the missing amount of years. Output:"
   ]
  },
  {
   "cell_type": "code",
   "execution_count": 1,
   "metadata": {},
   "outputs": [
    {
     "name": "stdout",
     "output_type": "stream",
     "text": [
      "You need 6 more years to learn to drive\n"
     ]
    }
   ],
   "source": [
    "prompt = int(input(\"Enter Your Age :\"))\n",
    "\n",
    "if prompt >= 18:\n",
    "    print(\"You are old enough to drive\")\n",
    "else:\n",
    "    print(f\"You need {18 - prompt} more years to learn to drive\")"
   ]
  },
  {
   "cell_type": "markdown",
   "metadata": {},
   "source": [
    "2) Compare the values of my_age and your_age using if … else. Who is older (me or you)? Use input(“Enter your age: ”) to get the age as input. You can use a nested condition to print 'year' for 1 year difference in age, 'years' for bigger differences, and a custom text if my_age = your_age"
   ]
  },
  {
   "cell_type": "code",
   "execution_count": 6,
   "metadata": {},
   "outputs": [
    {
     "name": "stdout",
     "output_type": "stream",
     "text": [
      "we are age mates\n"
     ]
    }
   ],
   "source": [
    "your_age = int(input(\"Enter Your Age: \"))\n",
    "\n",
    "my_age = 18\n",
    "\n",
    "if your_age > my_age:\n",
    "    if (your_age - my_age) <= 1:\n",
    "        print(f\"You are {your_age - my_age} year older than me\")\n",
    "    else:\n",
    "        print(f\"You are {your_age - my_age} years older than me\")\n",
    "\n",
    "elif my_age > your_age:\n",
    "    if (my_age - your_age) <= 1:\n",
    "        print(f\"I'm {my_age - your_age} year older than you\")\n",
    "    else:\n",
    "        print(f\"I'm {my_age - your_age} years older than you\")\n",
    "\n",
    "else:\n",
    "    print(\"we are age mates\")"
   ]
  },
  {
   "cell_type": "markdown",
   "metadata": {},
   "source": [
    "3) Get two numbers from the user using input prompt. If a is greater than b return a is greater than b, if a is less b return a is smaller than b, else a is equal to b."
   ]
  },
  {
   "cell_type": "code",
   "execution_count": 11,
   "metadata": {},
   "outputs": [
    {
     "name": "stdout",
     "output_type": "stream",
     "text": [
      "B is greater than A\n"
     ]
    }
   ],
   "source": [
    "a = int(input(\"Enter the Value of A\"))\n",
    "b = int(input(\"Enter the Value of B\"))\n",
    "\n",
    "if a > b: \n",
    "    print(\"A is Greater than B\")\n",
    "\n",
    "elif b > a:\n",
    "    print(\"B is greater than A\")\n",
    "\n",
    "else:\n",
    "    print(\"A is equal to B\")"
   ]
  },
  {
   "cell_type": "markdown",
   "metadata": {},
   "source": [
    "#### Exercises: Level 2"
   ]
  },
  {
   "cell_type": "markdown",
   "metadata": {},
   "source": [
    "1) Write a code which gives grade to students according to theirs scores:"
   ]
  },
  {
   "cell_type": "code",
   "execution_count": 13,
   "metadata": {},
   "outputs": [
    {
     "name": "stdout",
     "output_type": "stream",
     "text": [
      "you scored A\n"
     ]
    }
   ],
   "source": [
    "score = int(input(\"Enter Your Score: \"))\n",
    "\n",
    "if score > 0 and score <= 49:\n",
    "    print(\"You Scored F\")\n",
    "elif score > 49 and score <= 59:\n",
    "    print(\"You Scored D\")\n",
    "elif score > 59 and score <= 69:\n",
    "    print(\"You Scored C\")\n",
    "elif score > 69 and score <= 89:\n",
    "    print(\"You Scored B\")\n",
    "elif score > 89 and score <= 100:\n",
    "    print(\"you scored A\")\n",
    "\n",
    "else:\n",
    "    print(\"Score out of range\")\n"
   ]
  },
  {
   "cell_type": "markdown",
   "metadata": {},
   "source": [
    "2) Check if the season is Autumn, Winter, Spring or Summer. If the user input is: September, October or November, the season is Autumn. December, January or February, the season is Winter. March, April or May, the season is Spring June, July or August, the season is Summer"
   ]
  },
  {
   "cell_type": "code",
   "execution_count": 20,
   "metadata": {},
   "outputs": [
    {
     "name": "stdout",
     "output_type": "stream",
     "text": [
      "The season is Spring\n"
     ]
    }
   ],
   "source": [
    "month = input(\"Enter any Mon of the year\")\n",
    "\n",
    "if month.lower() == 'september' or month.lower() == 'october' or month.lower() == 'november':\n",
    "    print(\"The season is Autumn\")\n",
    "elif month.lower() == 'december' or month.lower() == 'january' or month.lower() == 'febraury':\n",
    "    print(\"The Season is Winter\")\n",
    "elif month.lower() == month.lower() == 'march' or month.lower() == 'april' or month.lower() == 'may':\n",
    "    print(\"The season is Spring\")\n",
    "elif month.lower() == 'june' or month.lower() == 'july' or month.lower() == 'august':\n",
    "    print(\"The season is Summer\")\n",
    "else:\n",
    "    print(\"Invalid Month inputed\")"
   ]
  },
  {
   "cell_type": "markdown",
   "metadata": {},
   "source": [
    "3) The following list contains some fruits\n",
    "\n",
    "```\n",
    "fruits = ['banana', 'orange', 'mango', 'lemon']\n",
    "```\n",
    "\n",
    "If a fruit doesn't exist in the list add the fruit to the list and print the modified list. If the fruit exists print('That fruit already exist in the list')"
   ]
  },
  {
   "cell_type": "code",
   "execution_count": 21,
   "metadata": {},
   "outputs": [
    {
     "name": "stdout",
     "output_type": "stream",
     "text": [
      "papaya is added to the list\n",
      "['banana', 'orange', 'mango', 'lemon', 'papaya']\n"
     ]
    }
   ],
   "source": [
    "fruits = ['banana', 'orange', 'mango', 'lemon']\n",
    "\n",
    "new_fruit = input('Enter new fruit\\'s name: ')\n",
    "\n",
    "if new_fruit in fruits:\n",
    "    print(f'{new_fruit} is already in the list')\n",
    "else:\n",
    "    fruits.append(new_fruit)\n",
    "    print(f'{new_fruit} is added to the list')\n",
    "    print(fruits)"
   ]
  },
  {
   "cell_type": "markdown",
   "metadata": {},
   "source": [
    "#### Exercises: Level 3"
   ]
  },
  {
   "cell_type": "markdown",
   "metadata": {},
   "source": [
    "1) Here we have a person dictionary. Feel free to modify it!\n",
    "    ```\n",
    "    person={\n",
    "    'first_name': 'Asabeneh',\n",
    "    'last_name': 'Yetayeh',\n",
    "    'age': 250,\n",
    "    'country': 'Finland',\n",
    "    'is_marred': True,\n",
    "    'skills': ['JavaScript', 'React', 'Node', 'MongoDB', 'Python'],\n",
    "    'address': {\n",
    "        'street': 'Space street',\n",
    "        'zipcode': '02210'\n",
    "    }\n",
    "    }\n",
    "    ```\n",
    "\n",
    "\n",
    " * Check if the person dictionary has skills key, if so print out the middle skill in the skills list.\n",
    " * Check if the person dictionary has skills key, if so check if the person has 'Python' skill and print out the result.\n",
    " * If a person skills has only JavaScript and React, print('He is a front end developer'), if the person skills has Node, Python, MongoDB, print('He is a backend developer'), if the person skills has React, Node and MongoDB, Print('He is a fullstack developer'), else print('unknown title') - for more accurate results more conditions can be nested!\n",
    " * If the person is married and if he lives in Finland, print the information in the following format:"
   ]
  },
  {
   "cell_type": "code",
   "execution_count": 28,
   "metadata": {},
   "outputs": [
    {
     "name": "stdout",
     "output_type": "stream",
     "text": [
      "True\n",
      "Node\n",
      "True\n",
      "He is a backend developer.\n",
      "Asabeneh Yetayeh is married and lives in Finland.\n"
     ]
    }
   ],
   "source": [
    "person = {\n",
    "    'first_name': 'Asabeneh',\n",
    "    'last_name': 'Yetayeh',\n",
    "    'age': 250,\n",
    "    'country': 'Finland',\n",
    "    'is_marred': True,\n",
    "    'skills': ['JavaScript', 'React', 'Node', 'MongoDB', 'Python'],\n",
    "    'address': {\n",
    "        'street': 'Space street',\n",
    "        'zipcode': '02210'\n",
    "    }\n",
    "    }\n",
    "\n",
    "print('skills' in person)\n",
    "\n",
    "print(person['skills'][2])\n",
    "\n",
    "if person['skills']:\n",
    "    print('Python' in person['skills'])\n",
    "\n",
    "if 'skills' in person:\n",
    "    skills_set = set(person['skills'])\n",
    "    if skills_set == {'JavaScript', 'React'}:\n",
    "        print(\"He is a front end developer.\")\n",
    "    elif {'Node', 'Python', 'MongoDB'}.issubset(skills_set):\n",
    "        print(\"He is a backend developer.\")\n",
    "    elif {'React', 'Node', 'MongoDB'}.issubset(skills_set):\n",
    "        print(\"He is a fullstack developer.\")\n",
    "    else:\n",
    "        print(\"Unknown title.\")\n",
    "        \n",
    "if person.get('is_marred') and person.get('country') == 'Finland':\n",
    "    print(f\"{person['first_name']} {person['last_name']} is married and lives in {person['country']}.\")"
   ]
  },
  {
   "cell_type": "code",
   "execution_count": null,
   "metadata": {},
   "outputs": [],
   "source": []
  }
 ],
 "metadata": {
  "kernelspec": {
   "display_name": "base",
   "language": "python",
   "name": "python3"
  },
  "language_info": {
   "codemirror_mode": {
    "name": "ipython",
    "version": 3
   },
   "file_extension": ".py",
   "mimetype": "text/x-python",
   "name": "python",
   "nbconvert_exporter": "python",
   "pygments_lexer": "ipython3",
   "version": "3.8.20"
  }
 },
 "nbformat": 4,
 "nbformat_minor": 2
}
